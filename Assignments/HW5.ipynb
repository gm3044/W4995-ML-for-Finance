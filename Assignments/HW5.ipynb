{
 "cells": [
  {
   "cell_type": "markdown",
   "id": "692a1742",
   "metadata": {},
   "source": [
    "### Q1.\n",
    "##### Is DELTA delivering beta or alpha?"
   ]
  },
  {
   "cell_type": "markdown",
   "id": "d158f794",
   "metadata": {},
   "source": [
    "##### According to the case, AQR's DELTA strategy was designed to be uncorrelated with the overall market, meaning its not a beta strategy. Morevoer, one of the strategies that AQR's DELTA employed is merger-aritragy strategy, that seeks alpha via a long-short combination of the two MMA counterparts. Therefore, we can think of DELTA as a strategy that combine varous alpha seeking strategies to deliver alpha.\n"
   ]
  },
  {
   "cell_type": "markdown",
   "id": "c6fbe0ba",
   "metadata": {},
   "source": [
    "### Q2.\n",
    "##### How might it cannibalize AQR’s existing business?"
   ]
  },
  {
   "cell_type": "markdown",
   "id": "d619f027",
   "metadata": {},
   "source": [
    "##### In a high level, i think AQR's existing business should be a complement to their new DELTA strategy.\n",
    "##### First, AQR's existing business are similar to many other competitors' strategy that focusing on a Top-down or funds of fund approach. Therefore, the fee constructions and institutional investors marketing pool would be different from what they want to attract for the DELTA strategy, Second, related to what I answered in question 1, they are seeking alpha instead of beta which is more of a high level difference bewteen the two approaches. Consequently, this leads me to conclude that it would not cannibalize AQR's existing strategy.\n",
    "##### On the other hand, if AQR does not provide a clear guideline to its current and potential future investors on which strategy would be better play based on their investors' levels of risk reversion, then it would be difficult for their investors to differentiate DELTA strategy from their existing business, which could lead to a cannibalization.  For example, institutional investors with less than 100M source of funds would be better to stick with their current investing strategy since a 2% management fee with additional 20% performance fee according to the article, whereas investors with 500M and above would be better suit for their DELTA strategy because it decreazes the management fee to 1% while charging additional 10% instead of 20% performance fee, for institutional investors of this size, this is a huge amount of investment cost relative to their tradtional approach. \n",
    "\n",
    "##### Overall, my ansder to the question is it really depends on how AQR wants to set up the play, and if it has done properly, it could be a great complment instead of a substitution for their existing business."
   ]
  },
  {
   "cell_type": "markdown",
   "id": "8df717cc",
   "metadata": {},
   "source": [
    "### Q3.\n",
    "##### Using Exhibit 8, how has DELTA done vs HFRI and S&P 500? Compute mean return (calculate t-test mean differences of returns), volatility, Sharpe Ratio, and correlations of DELTA with the index, for the whole period as well as two sub-periods (2008-9 and 2009-11)."
   ]
  },
  {
   "cell_type": "code",
   "execution_count": 2,
   "id": "5ccc87e5",
   "metadata": {},
   "outputs": [],
   "source": [
    "import pandas as pd\n",
    "import numpy as np\n",
    "import math\n",
    "import plotly.express as px \n",
    "import plotly.graph_objs as go\n",
    "import matplotlib.pyplot as plt\n",
    "import statsmodels.api as sm\n",
    "import pypfopt\n",
    "from pypfopt import risk_models, expected_returns, plotting\n",
    "from pypfopt.efficient_frontier import EfficientFrontier\n",
    "from pypfopt import objective_functions\n",
    "from pypfopt.plotting import plot_weights\n",
    "from scipy.stats import ttest_ind\n",
    "import copy\n",
    "\n"
   ]
  },
  {
   "cell_type": "code",
   "execution_count": 62,
   "id": "06d66206",
   "metadata": {},
   "outputs": [
    {
     "data": {
      "text/html": [
       "<div>\n",
       "<style scoped>\n",
       "    .dataframe tbody tr th:only-of-type {\n",
       "        vertical-align: middle;\n",
       "    }\n",
       "\n",
       "    .dataframe tbody tr th {\n",
       "        vertical-align: top;\n",
       "    }\n",
       "\n",
       "    .dataframe thead th {\n",
       "        text-align: right;\n",
       "    }\n",
       "</style>\n",
       "<table border=\"1\" class=\"dataframe\">\n",
       "  <thead>\n",
       "    <tr style=\"text-align: right;\">\n",
       "      <th></th>\n",
       "      <th>DELTA</th>\n",
       "      <th>NASDAQ</th>\n",
       "      <th>S&amp;P_Index</th>\n",
       "      <th>DJCS_Hedge</th>\n",
       "      <th>HFRI_FW</th>\n",
       "    </tr>\n",
       "    <tr>\n",
       "      <th>Date</th>\n",
       "      <th></th>\n",
       "      <th></th>\n",
       "      <th></th>\n",
       "      <th></th>\n",
       "      <th></th>\n",
       "    </tr>\n",
       "  </thead>\n",
       "  <tbody>\n",
       "    <tr>\n",
       "      <th>200810</th>\n",
       "      <td>0.0122</td>\n",
       "      <td>-0.1773</td>\n",
       "      <td>-0.1694</td>\n",
       "      <td>-0.0630</td>\n",
       "      <td>-0.0684</td>\n",
       "    </tr>\n",
       "    <tr>\n",
       "      <th>200811</th>\n",
       "      <td>0.0172</td>\n",
       "      <td>-0.1077</td>\n",
       "      <td>-0.0748</td>\n",
       "      <td>-0.0415</td>\n",
       "      <td>-0.0267</td>\n",
       "    </tr>\n",
       "    <tr>\n",
       "      <th>200812</th>\n",
       "      <td>0.0405</td>\n",
       "      <td>0.0270</td>\n",
       "      <td>0.0078</td>\n",
       "      <td>-0.0003</td>\n",
       "      <td>0.0015</td>\n",
       "    </tr>\n",
       "    <tr>\n",
       "      <th>200901</th>\n",
       "      <td>0.0279</td>\n",
       "      <td>-0.0638</td>\n",
       "      <td>-0.0857</td>\n",
       "      <td>0.0109</td>\n",
       "      <td>-0.0009</td>\n",
       "    </tr>\n",
       "    <tr>\n",
       "      <th>200902</th>\n",
       "      <td>-0.0010</td>\n",
       "      <td>-0.0668</td>\n",
       "      <td>-0.1099</td>\n",
       "      <td>-0.0088</td>\n",
       "      <td>-0.0121</td>\n",
       "    </tr>\n",
       "  </tbody>\n",
       "</table>\n",
       "</div>"
      ],
      "text/plain": [
       "         DELTA  NASDAQ  S&P_Index  DJCS_Hedge  HFRI_FW\n",
       "Date                                                  \n",
       "200810  0.0122 -0.1773    -0.1694     -0.0630  -0.0684\n",
       "200811  0.0172 -0.1077    -0.0748     -0.0415  -0.0267\n",
       "200812  0.0405  0.0270     0.0078     -0.0003   0.0015\n",
       "200901  0.0279 -0.0638    -0.0857      0.0109  -0.0009\n",
       "200902 -0.0010 -0.0668    -0.1099     -0.0088  -0.0121"
      ]
     },
     "execution_count": 62,
     "metadata": {},
     "output_type": "execute_result"
    }
   ],
   "source": [
    "df_3 = pd.read_csv(\"Q3.csv\", index_col=\"Date\")\n",
    "df_3.head(5)"
   ]
  },
  {
   "cell_type": "code",
   "execution_count": 36,
   "id": "7dc9bb84",
   "metadata": {},
   "outputs": [],
   "source": [
    "#df_m = df_m.drop(['Year','Month'], axis=1)\n"
   ]
  },
  {
   "cell_type": "markdown",
   "id": "510901a6",
   "metadata": {},
   "source": [
    "### Overall Period vs 2008-2009 vs 2010-2011\n",
    "\n",
    "#### Mean"
   ]
  },
  {
   "cell_type": "code",
   "execution_count": 64,
   "id": "874e41dd",
   "metadata": {},
   "outputs": [
    {
     "data": {
      "text/plain": [
       "(DELTA         0.013206\n",
       " NASDAQ        0.011922\n",
       " S&P_Index     0.006441\n",
       " DJCS_Hedge    0.006378\n",
       " HFRI_FW       0.006606\n",
       " dtype: float64,\n",
       " DELTA         0.017887\n",
       " NASDAQ        0.008800\n",
       " S&P_Index    -0.000040\n",
       " DJCS_Hedge    0.004520\n",
       " HFRI_FW       0.006127\n",
       " dtype: float64,\n",
       " DELTA         0.009076\n",
       " NASDAQ        0.014676\n",
       " S&P_Index     0.012159\n",
       " DJCS_Hedge    0.008018\n",
       " HFRI_FW       0.007029\n",
       " dtype: float64)"
      ]
     },
     "execution_count": 64,
     "metadata": {},
     "output_type": "execute_result"
    }
   ],
   "source": [
    "df_3.mean(),df_3.loc['200810':'200912'].mean(),df_3.loc['201001':].mean()"
   ]
  },
  {
   "cell_type": "markdown",
   "id": "91fbad91",
   "metadata": {},
   "source": [
    "### Volatility(standard deviation)"
   ]
  },
  {
   "cell_type": "code",
   "execution_count": 65,
   "id": "ca726244",
   "metadata": {},
   "outputs": [
    {
     "data": {
      "text/plain": [
       "(DELTA         0.016355\n",
       " NASDAQ        0.069193\n",
       " S&P_Index     0.062625\n",
       " DJCS_Hedge    0.021050\n",
       " HFRI_FW       0.022329\n",
       " dtype: float64,\n",
       " DELTA         0.014948\n",
       " NASDAQ        0.083334\n",
       " S&P_Index     0.077737\n",
       " DJCS_Hedge    0.026592\n",
       " HFRI_FW       0.028258\n",
       " dtype: float64,\n",
       " DELTA         0.016855\n",
       " NASDAQ        0.056413\n",
       " S&P_Index     0.047295\n",
       " DJCS_Hedge    0.015286\n",
       " HFRI_FW       0.016336\n",
       " dtype: float64)"
      ]
     },
     "execution_count": 65,
     "metadata": {},
     "output_type": "execute_result"
    }
   ],
   "source": [
    "df_3.std(),df_3.loc['200810':'200912'].std(),df_3.loc['201001':].std()"
   ]
  },
  {
   "cell_type": "markdown",
   "id": "f2fb1c7d",
   "metadata": {},
   "source": [
    "####  Sharpe Ratio"
   ]
  },
  {
   "cell_type": "code",
   "execution_count": 66,
   "id": "3aa393ab",
   "metadata": {},
   "outputs": [
    {
     "data": {
      "text/plain": [
       "(DELTA         0.807465\n",
       " NASDAQ        0.172299\n",
       " S&P_Index     0.102845\n",
       " DJCS_Hedge    0.303000\n",
       " HFRI_FW       0.295862\n",
       " dtype: float64,\n",
       " DELTA         1.196623\n",
       " NASDAQ        0.105600\n",
       " S&P_Index    -0.000515\n",
       " DJCS_Hedge    0.169973\n",
       " HFRI_FW       0.216812\n",
       " dtype: float64,\n",
       " DELTA         0.538489\n",
       " NASDAQ        0.260160\n",
       " S&P_Index     0.257085\n",
       " DJCS_Hedge    0.524525\n",
       " HFRI_FW       0.430289\n",
       " dtype: float64)"
      ]
     },
     "execution_count": 66,
     "metadata": {},
     "output_type": "execute_result"
    }
   ],
   "source": [
    "df_3.mean()/df_3.std(),df_3.loc['200810':'200912'].mean()/df_3.loc['200810':'200912'].std(),df_3.loc['201001':].mean()/df_3.loc['201001':].std()"
   ]
  },
  {
   "cell_type": "markdown",
   "id": "9595167c",
   "metadata": {},
   "source": [
    "#### Correlation"
   ]
  },
  {
   "cell_type": "code",
   "execution_count": 67,
   "id": "625d9e53",
   "metadata": {},
   "outputs": [
    {
     "data": {
      "text/plain": [
       "(               DELTA    NASDAQ  S&P_Index  DJCS_Hedge   HFRI_FW\n",
       " DELTA       1.000000  0.376874   0.341190    0.318443  0.347317\n",
       " NASDAQ      0.376874  1.000000   0.962625    0.819939  0.878331\n",
       " S&P_Index   0.341190  0.962625   1.000000    0.826514  0.889968\n",
       " DJCS_Hedge  0.318443  0.819939   0.826514    1.000000  0.959787\n",
       " HFRI_FW     0.347317  0.878331   0.889968    0.959787  1.000000,\n",
       "                DELTA    NASDAQ  S&P_Index  DJCS_Hedge   HFRI_FW\n",
       " DELTA       1.000000  0.256406   0.246032    0.081474  0.086705\n",
       " NASDAQ      0.256406  1.000000   0.955908    0.794010  0.862710\n",
       " S&P_Index   0.246032  0.955908   1.000000    0.792046  0.876799\n",
       " DJCS_Hedge  0.081474  0.794010   0.792046    1.000000  0.952943\n",
       " HFRI_FW     0.086705  0.862710   0.876799    0.952943  1.000000,\n",
       "                DELTA    NASDAQ  S&P_Index  DJCS_Hedge   HFRI_FW\n",
       " DELTA       1.000000  0.602242   0.602697    0.774021  0.790469\n",
       " NASDAQ      0.602242  1.000000   0.984852    0.885992  0.921199\n",
       " S&P_Index   0.602697  0.984852   1.000000    0.908919  0.932367\n",
       " DJCS_Hedge  0.774021  0.885992   0.908919    1.000000  0.984699\n",
       " HFRI_FW     0.790469  0.921199   0.932367    0.984699  1.000000)"
      ]
     },
     "execution_count": 67,
     "metadata": {},
     "output_type": "execute_result"
    }
   ],
   "source": [
    "df_3.corr(),df_3.loc['200810':'200912'].corr(),df_3.loc['201001':].corr()"
   ]
  },
  {
   "cell_type": "markdown",
   "id": "2c4c2278",
   "metadata": {},
   "source": [
    "### Q4.\n",
    "##### Using the complete period of analysis of Exhibit 3, how much could HFRI replication (HFRI equity hedge (total)) charge in fees before falling below S&P 500 Sharpe ratio?"
   ]
  },
  {
   "cell_type": "code",
   "execution_count": 235,
   "id": "dcf8e1bf",
   "metadata": {},
   "outputs": [
    {
     "data": {
      "text/html": [
       "<div>\n",
       "<style scoped>\n",
       "    .dataframe tbody tr th:only-of-type {\n",
       "        vertical-align: middle;\n",
       "    }\n",
       "\n",
       "    .dataframe tbody tr th {\n",
       "        vertical-align: top;\n",
       "    }\n",
       "\n",
       "    .dataframe thead th {\n",
       "        text-align: right;\n",
       "    }\n",
       "</style>\n",
       "<table border=\"1\" class=\"dataframe\">\n",
       "  <thead>\n",
       "    <tr style=\"text-align: right;\">\n",
       "      <th></th>\n",
       "      <th>HFRI</th>\n",
       "      <th>SP500</th>\n",
       "    </tr>\n",
       "    <tr>\n",
       "      <th>Date_</th>\n",
       "      <th></th>\n",
       "      <th></th>\n",
       "    </tr>\n",
       "  </thead>\n",
       "  <tbody>\n",
       "    <tr>\n",
       "      <th>19960131</th>\n",
       "      <td>0.010601</td>\n",
       "      <td>0.034039</td>\n",
       "    </tr>\n",
       "    <tr>\n",
       "      <th>19960229</th>\n",
       "      <td>0.028199</td>\n",
       "      <td>0.009267</td>\n",
       "    </tr>\n",
       "    <tr>\n",
       "      <th>19960329</th>\n",
       "      <td>0.019001</td>\n",
       "      <td>0.009630</td>\n",
       "    </tr>\n",
       "    <tr>\n",
       "      <th>19960430</th>\n",
       "      <td>0.053400</td>\n",
       "      <td>0.014738</td>\n",
       "    </tr>\n",
       "    <tr>\n",
       "      <th>19960531</th>\n",
       "      <td>0.036999</td>\n",
       "      <td>0.025790</td>\n",
       "    </tr>\n",
       "  </tbody>\n",
       "</table>\n",
       "</div>"
      ],
      "text/plain": [
       "              HFRI     SP500\n",
       "Date_                       \n",
       "19960131  0.010601  0.034039\n",
       "19960229  0.028199  0.009267\n",
       "19960329  0.019001  0.009630\n",
       "19960430  0.053400  0.014738\n",
       "19960531  0.036999  0.025790"
      ]
     },
     "execution_count": 235,
     "metadata": {},
     "output_type": "execute_result"
    }
   ],
   "source": [
    "df_4 = pd.read_csv(\"Q4.csv\", index_col=\"Date_\")\n",
    "df_4=df_4.drop(columns=['Year','Month','Date'],axis=1)\n",
    "test = df_4[['HFRI EQUITY HEDGE (TOTAL) - TOT RETURN IND','S&P 500 COMPOSITE - TOT RETURN IND']]\n",
    "test=test.rename(columns={\"HFRI EQUITY HEDGE (TOTAL) - TOT RETURN IND\": \"HFRI\", \"S&P 500 COMPOSITE - TOT RETURN IND\": \"SP500\"})\n",
    "test.head(5)"
   ]
  },
  {
   "cell_type": "code",
   "execution_count": 390,
   "id": "8bd10359",
   "metadata": {},
   "outputs": [
    {
     "data": {
      "text/html": [
       "<div>\n",
       "<style scoped>\n",
       "    .dataframe tbody tr th:only-of-type {\n",
       "        vertical-align: middle;\n",
       "    }\n",
       "\n",
       "    .dataframe tbody tr th {\n",
       "        vertical-align: top;\n",
       "    }\n",
       "\n",
       "    .dataframe thead th {\n",
       "        text-align: right;\n",
       "    }\n",
       "</style>\n",
       "<table border=\"1\" class=\"dataframe\">\n",
       "  <thead>\n",
       "    <tr style=\"text-align: right;\">\n",
       "      <th></th>\n",
       "      <th>HFRI</th>\n",
       "      <th>SP500</th>\n",
       "      <th>HFRI_SR</th>\n",
       "      <th>SP500_SR</th>\n",
       "    </tr>\n",
       "    <tr>\n",
       "      <th>Year</th>\n",
       "      <th></th>\n",
       "      <th></th>\n",
       "      <th></th>\n",
       "      <th></th>\n",
       "    </tr>\n",
       "  </thead>\n",
       "  <tbody>\n",
       "    <tr>\n",
       "      <th>1996</th>\n",
       "      <td>0.017500</td>\n",
       "      <td>0.021241</td>\n",
       "      <td>0.808674</td>\n",
       "      <td>0.696099</td>\n",
       "    </tr>\n",
       "    <tr>\n",
       "      <th>1997</th>\n",
       "      <td>0.018273</td>\n",
       "      <td>0.025983</td>\n",
       "      <td>0.735850</td>\n",
       "      <td>0.539080</td>\n",
       "    </tr>\n",
       "    <tr>\n",
       "      <th>1998</th>\n",
       "      <td>0.009309</td>\n",
       "      <td>0.019880</td>\n",
       "      <td>0.267140</td>\n",
       "      <td>0.310250</td>\n",
       "    </tr>\n",
       "    <tr>\n",
       "      <th>1999</th>\n",
       "      <td>0.024527</td>\n",
       "      <td>0.012852</td>\n",
       "      <td>0.889993</td>\n",
       "      <td>0.345922</td>\n",
       "    </tr>\n",
       "    <tr>\n",
       "      <th>2000</th>\n",
       "      <td>0.005982</td>\n",
       "      <td>-0.007879</td>\n",
       "      <td>0.133434</td>\n",
       "      <td>-0.152124</td>\n",
       "    </tr>\n",
       "    <tr>\n",
       "      <th>2001</th>\n",
       "      <td>-0.001200</td>\n",
       "      <td>-0.010582</td>\n",
       "      <td>-0.053733</td>\n",
       "      <td>-0.176823</td>\n",
       "    </tr>\n",
       "    <tr>\n",
       "      <th>2002</th>\n",
       "      <td>-0.003168</td>\n",
       "      <td>-0.015335</td>\n",
       "      <td>-0.163362</td>\n",
       "      <td>-0.250889</td>\n",
       "    </tr>\n",
       "    <tr>\n",
       "      <th>2003</th>\n",
       "      <td>0.015460</td>\n",
       "      <td>0.018928</td>\n",
       "      <td>1.035323</td>\n",
       "      <td>0.574099</td>\n",
       "    </tr>\n",
       "    <tr>\n",
       "      <th>2004</th>\n",
       "      <td>0.005271</td>\n",
       "      <td>0.006560</td>\n",
       "      <td>0.321955</td>\n",
       "      <td>0.320182</td>\n",
       "    </tr>\n",
       "    <tr>\n",
       "      <th>2005</th>\n",
       "      <td>0.007253</td>\n",
       "      <td>0.004595</td>\n",
       "      <td>0.394439</td>\n",
       "      <td>0.191912</td>\n",
       "    </tr>\n",
       "    <tr>\n",
       "      <th>2006</th>\n",
       "      <td>0.009026</td>\n",
       "      <td>0.012271</td>\n",
       "      <td>0.514584</td>\n",
       "      <td>0.719400</td>\n",
       "    </tr>\n",
       "    <tr>\n",
       "      <th>2007</th>\n",
       "      <td>0.008778</td>\n",
       "      <td>0.005892</td>\n",
       "      <td>0.473699</td>\n",
       "      <td>0.203327</td>\n",
       "    </tr>\n",
       "    <tr>\n",
       "      <th>2008</th>\n",
       "      <td>-0.027281</td>\n",
       "      <td>-0.040198</td>\n",
       "      <td>-0.708381</td>\n",
       "      <td>-0.651086</td>\n",
       "    </tr>\n",
       "    <tr>\n",
       "      <th>2009</th>\n",
       "      <td>0.018593</td>\n",
       "      <td>0.021902</td>\n",
       "      <td>0.694032</td>\n",
       "      <td>0.324723</td>\n",
       "    </tr>\n",
       "    <tr>\n",
       "      <th>2010</th>\n",
       "      <td>0.006205</td>\n",
       "      <td>0.008298</td>\n",
       "      <td>0.242863</td>\n",
       "      <td>0.149369</td>\n",
       "    </tr>\n",
       "    <tr>\n",
       "      <th>2011</th>\n",
       "      <td>-0.006635</td>\n",
       "      <td>0.002010</td>\n",
       "      <td>-0.220264</td>\n",
       "      <td>0.041709</td>\n",
       "    </tr>\n",
       "    <tr>\n",
       "      <th>2012</th>\n",
       "      <td>0.038429</td>\n",
       "      <td>0.044814</td>\n",
       "      <td>NaN</td>\n",
       "      <td>NaN</td>\n",
       "    </tr>\n",
       "  </tbody>\n",
       "</table>\n",
       "</div>"
      ],
      "text/plain": [
       "          HFRI     SP500   HFRI_SR  SP500_SR\n",
       "Year                                        \n",
       "1996  0.017500  0.021241  0.808674  0.696099\n",
       "1997  0.018273  0.025983  0.735850  0.539080\n",
       "1998  0.009309  0.019880  0.267140  0.310250\n",
       "1999  0.024527  0.012852  0.889993  0.345922\n",
       "2000  0.005982 -0.007879  0.133434 -0.152124\n",
       "2001 -0.001200 -0.010582 -0.053733 -0.176823\n",
       "2002 -0.003168 -0.015335 -0.163362 -0.250889\n",
       "2003  0.015460  0.018928  1.035323  0.574099\n",
       "2004  0.005271  0.006560  0.321955  0.320182\n",
       "2005  0.007253  0.004595  0.394439  0.191912\n",
       "2006  0.009026  0.012271  0.514584  0.719400\n",
       "2007  0.008778  0.005892  0.473699  0.203327\n",
       "2008 -0.027281 -0.040198 -0.708381 -0.651086\n",
       "2009  0.018593  0.021902  0.694032  0.324723\n",
       "2010  0.006205  0.008298  0.242863  0.149369\n",
       "2011 -0.006635  0.002010 -0.220264  0.041709\n",
       "2012  0.038429  0.044814       NaN       NaN"
      ]
     },
     "execution_count": 390,
     "metadata": {},
     "output_type": "execute_result"
    }
   ],
   "source": [
    "result_0 = pd.DataFrame(columns = ['Year', 'HFRI', 'SP500', 'HFRI_SR','SP500_SR'])\n",
    "years = [1996,1997,1998,1999,2000,2001,2002,2003,2004,2005,2006,2007,2008,2009,2010,2011,2012]\n",
    "\n",
    "for i in range(len(years)):\n",
    "    indx2 = test.iloc[12*i:12*i+11]\n",
    "    result_0 = result_0.append({'Year' : years[i],\n",
    "                            'HFRI' : indx2['HFRI'].mean(),\n",
    "                            'SP500' : indx2['SP500'].mean(), \n",
    "                            'HFRI_SR' : indx2['HFRI'].mean()/indx2['HFRI'].std(),\n",
    "                            'SP500_SR' : indx2['SP500'].mean()/indx2['SP500'].std()},ignore_index = True)\n",
    "    \n",
    "result_0['Year']= result_0['Year'].astype('int')\n",
    "result_0.set_index('Year')"
   ]
  },
  {
   "cell_type": "code",
   "execution_count": 389,
   "id": "5f411b30",
   "metadata": {},
   "outputs": [
    {
     "data": {
      "text/html": [
       "<div>\n",
       "<style scoped>\n",
       "    .dataframe tbody tr th:only-of-type {\n",
       "        vertical-align: middle;\n",
       "    }\n",
       "\n",
       "    .dataframe tbody tr th {\n",
       "        vertical-align: top;\n",
       "    }\n",
       "\n",
       "    .dataframe thead th {\n",
       "        text-align: right;\n",
       "    }\n",
       "</style>\n",
       "<table border=\"1\" class=\"dataframe\">\n",
       "  <thead>\n",
       "    <tr style=\"text-align: right;\">\n",
       "      <th></th>\n",
       "      <th>HFRI</th>\n",
       "      <th>SP500</th>\n",
       "      <th>Net-of-fee HFRI</th>\n",
       "      <th>HFRI_SR</th>\n",
       "      <th>SP500_SR</th>\n",
       "      <th>Net-of-fee HFRI_SR</th>\n",
       "    </tr>\n",
       "    <tr>\n",
       "      <th>Year</th>\n",
       "      <th></th>\n",
       "      <th></th>\n",
       "      <th></th>\n",
       "      <th></th>\n",
       "      <th></th>\n",
       "      <th></th>\n",
       "    </tr>\n",
       "  </thead>\n",
       "  <tbody>\n",
       "    <tr>\n",
       "      <th>1996</th>\n",
       "      <td>0.207504</td>\n",
       "      <td>0.254457</td>\n",
       "      <td>0.187566</td>\n",
       "      <td>33.216023</td>\n",
       "      <td>28.887504</td>\n",
       "      <td>21.293585</td>\n",
       "    </tr>\n",
       "    <tr>\n",
       "      <th>1997</th>\n",
       "      <td>0.216808</td>\n",
       "      <td>0.311110</td>\n",
       "      <td>0.232888</td>\n",
       "      <td>30.244970</td>\n",
       "      <td>22.360026</td>\n",
       "      <td>16.738073</td>\n",
       "    </tr>\n",
       "    <tr>\n",
       "      <th>1998</th>\n",
       "      <td>0.100516</td>\n",
       "      <td>0.215734</td>\n",
       "      <td>0.156587</td>\n",
       "      <td>9.992158</td>\n",
       "      <td>11.663114</td>\n",
       "      <td>8.465493</td>\n",
       "    </tr>\n",
       "    <tr>\n",
       "      <th>1999</th>\n",
       "      <td>0.300719</td>\n",
       "      <td>0.143089</td>\n",
       "      <td>0.098471</td>\n",
       "      <td>37.799751</td>\n",
       "      <td>13.341130</td>\n",
       "      <td>9.181118</td>\n",
       "    </tr>\n",
       "    <tr>\n",
       "      <th>2000</th>\n",
       "      <td>0.057481</td>\n",
       "      <td>-0.095469</td>\n",
       "      <td>-0.092375</td>\n",
       "      <td>4.441753</td>\n",
       "      <td>-6.385102</td>\n",
       "      <td>-6.178189</td>\n",
       "    </tr>\n",
       "    <tr>\n",
       "      <th>2001</th>\n",
       "      <td>-0.015591</td>\n",
       "      <td>-0.126508</td>\n",
       "      <td>-0.117206</td>\n",
       "      <td>-2.418393</td>\n",
       "      <td>-7.322832</td>\n",
       "      <td>-6.784418</td>\n",
       "    </tr>\n",
       "    <tr>\n",
       "      <th>2002</th>\n",
       "      <td>-0.036136</td>\n",
       "      <td>-0.172386</td>\n",
       "      <td>-0.153909</td>\n",
       "      <td>-6.454873</td>\n",
       "      <td>-9.769744</td>\n",
       "      <td>-8.722571</td>\n",
       "    </tr>\n",
       "    <tr>\n",
       "      <th>2003</th>\n",
       "      <td>0.182556</td>\n",
       "      <td>0.222720</td>\n",
       "      <td>0.162176</td>\n",
       "      <td>42.349825</td>\n",
       "      <td>23.401184</td>\n",
       "      <td>17.039827</td>\n",
       "    </tr>\n",
       "    <tr>\n",
       "      <th>2004</th>\n",
       "      <td>0.058127</td>\n",
       "      <td>0.072332</td>\n",
       "      <td>0.041865</td>\n",
       "      <td>12.299162</td>\n",
       "      <td>12.230219</td>\n",
       "      <td>7.078817</td>\n",
       "    </tr>\n",
       "    <tr>\n",
       "      <th>2005</th>\n",
       "      <td>0.080924</td>\n",
       "      <td>0.048751</td>\n",
       "      <td>0.023001</td>\n",
       "      <td>15.245627</td>\n",
       "      <td>7.053193</td>\n",
       "      <td>3.327715</td>\n",
       "    </tr>\n",
       "    <tr>\n",
       "      <th>2006</th>\n",
       "      <td>0.102226</td>\n",
       "      <td>0.141927</td>\n",
       "      <td>0.097542</td>\n",
       "      <td>20.188017</td>\n",
       "      <td>28.824339</td>\n",
       "      <td>19.809990</td>\n",
       "    </tr>\n",
       "    <tr>\n",
       "      <th>2007</th>\n",
       "      <td>0.099036</td>\n",
       "      <td>0.062306</td>\n",
       "      <td>0.033845</td>\n",
       "      <td>18.513792</td>\n",
       "      <td>7.448742</td>\n",
       "      <td>4.046189</td>\n",
       "    </tr>\n",
       "    <tr>\n",
       "      <th>2008</th>\n",
       "      <td>-0.268137</td>\n",
       "      <td>-0.376610</td>\n",
       "      <td>-0.317288</td>\n",
       "      <td>-24.118481</td>\n",
       "      <td>-21.130626</td>\n",
       "      <td>-17.802220</td>\n",
       "    </tr>\n",
       "    <tr>\n",
       "      <th>2009</th>\n",
       "      <td>0.220419</td>\n",
       "      <td>0.240678</td>\n",
       "      <td>0.176542</td>\n",
       "      <td>28.501732</td>\n",
       "      <td>12.361282</td>\n",
       "      <td>9.067261</td>\n",
       "    </tr>\n",
       "    <tr>\n",
       "      <th>2010</th>\n",
       "      <td>0.066951</td>\n",
       "      <td>0.078552</td>\n",
       "      <td>0.046842</td>\n",
       "      <td>9.077792</td>\n",
       "      <td>4.898247</td>\n",
       "      <td>2.920895</td>\n",
       "    </tr>\n",
       "    <tr>\n",
       "      <th>2011</th>\n",
       "      <td>-0.074893</td>\n",
       "      <td>0.010779</td>\n",
       "      <td>-0.007377</td>\n",
       "      <td>-8.612564</td>\n",
       "      <td>0.774719</td>\n",
       "      <td>-0.530197</td>\n",
       "    </tr>\n",
       "    <tr>\n",
       "      <th>2012</th>\n",
       "      <td>0.038429</td>\n",
       "      <td>0.044814</td>\n",
       "      <td>0.019851</td>\n",
       "      <td>NaN</td>\n",
       "      <td>NaN</td>\n",
       "      <td>NaN</td>\n",
       "    </tr>\n",
       "  </tbody>\n",
       "</table>\n",
       "</div>"
      ],
      "text/plain": [
       "          HFRI     SP500  Net-of-fee HFRI    HFRI_SR   SP500_SR  \\\n",
       "Year                                                              \n",
       "1996  0.207504  0.254457         0.187566  33.216023  28.887504   \n",
       "1997  0.216808  0.311110         0.232888  30.244970  22.360026   \n",
       "1998  0.100516  0.215734         0.156587   9.992158  11.663114   \n",
       "1999  0.300719  0.143089         0.098471  37.799751  13.341130   \n",
       "2000  0.057481 -0.095469        -0.092375   4.441753  -6.385102   \n",
       "2001 -0.015591 -0.126508        -0.117206  -2.418393  -7.322832   \n",
       "2002 -0.036136 -0.172386        -0.153909  -6.454873  -9.769744   \n",
       "2003  0.182556  0.222720         0.162176  42.349825  23.401184   \n",
       "2004  0.058127  0.072332         0.041865  12.299162  12.230219   \n",
       "2005  0.080924  0.048751         0.023001  15.245627   7.053193   \n",
       "2006  0.102226  0.141927         0.097542  20.188017  28.824339   \n",
       "2007  0.099036  0.062306         0.033845  18.513792   7.448742   \n",
       "2008 -0.268137 -0.376610        -0.317288 -24.118481 -21.130626   \n",
       "2009  0.220419  0.240678         0.176542  28.501732  12.361282   \n",
       "2010  0.066951  0.078552         0.046842   9.077792   4.898247   \n",
       "2011 -0.074893  0.010779        -0.007377  -8.612564   0.774719   \n",
       "2012  0.038429  0.044814         0.019851        NaN        NaN   \n",
       "\n",
       "      Net-of-fee HFRI_SR  \n",
       "Year                      \n",
       "1996           21.293585  \n",
       "1997           16.738073  \n",
       "1998            8.465493  \n",
       "1999            9.181118  \n",
       "2000           -6.178189  \n",
       "2001           -6.784418  \n",
       "2002           -8.722571  \n",
       "2003           17.039827  \n",
       "2004            7.078817  \n",
       "2005            3.327715  \n",
       "2006           19.809990  \n",
       "2007            4.046189  \n",
       "2008          -17.802220  \n",
       "2009            9.067261  \n",
       "2010            2.920895  \n",
       "2011           -0.530197  \n",
       "2012                 NaN  "
      ]
     },
     "execution_count": 389,
     "metadata": {},
     "output_type": "execute_result"
    }
   ],
   "source": [
    "result_1 = pd.DataFrame(columns = ['Year', 'HFRI', 'SP500', 'Net-of-fee HFRI', 'HFRI_SR','SP500_SR', 'Net-of-fee HFRI_SR'])\n",
    "years = [1996,1997,1998,1999,2000,2001,2002,2003,2004,2005,2006,2007,2008,2009,2010,2011,2012]\n",
    "\n",
    "for i in  range(len(years)):\n",
    "    indx = (((1 + test.iloc[12*i:12*i+11]).cumprod() - 1)[-1:])\n",
    "    indx2 = test.iloc[12*i:12*i+11]\n",
    "    result_1 = result_1.append({'Year' : years[i],\n",
    "                            'HFRI' : indx['HFRI'].values[0],\n",
    "                            'SP500' : indx['SP500'].values[0], \n",
    "                            'Net-of-fee HFRI': (indx['SP500'].values[0]-0.02)*(0.8),\n",
    "                            'HFRI_SR' : indx['HFRI'].values[0]/indx2['HFRI'].std() * math.sqrt(12),\n",
    "                            'SP500_SR' : indx['SP500'].values[0]/indx2['SP500'].std() * math.sqrt(12),\n",
    "                            'Net-of-fee HFRI_SR': (indx['SP500'].values[0]-0.02)*(0.8)/indx2['SP500'].std() * math.sqrt(12)\n",
    "                           },ignore_index = True)\n",
    "result_1['Year']= result_1['Year'].astype('int')\n",
    "result_1.set_index('Year')"
   ]
  },
  {
   "cell_type": "markdown",
   "id": "b0c86660",
   "metadata": {},
   "source": [
    "### Q5.\n",
    "##### Using Exhibit 10 from the case, calculate the average annual return (gross and net of fees (management + performance)) for each fund. How large is the average gap, and what does this gap depend on? You can calculate each year the equal-weighted average of the 10 hedge funds’ gross and net returns. You can compare gross returns with net returns after fees of 1% of profits & 10% assets under management (AUM) and 2% of profits & 20% AUM fees."
   ]
  },
  {
   "cell_type": "code",
   "execution_count": 387,
   "id": "9dc798cd",
   "metadata": {},
   "outputs": [],
   "source": [
    "df_5 = pd.read_csv(\"Q5.csv\", index_col=\"Fund Name\")\n",
    "lists = list(df_5.index)\n",
    "main = pd.DataFrame(columns = ['Fund Name','Avg Annual Return', 'Net-of-Fees Annual Return (Current)', 'Gap (Current)', 'Net-of-Fees Annual Return (DELTA)', 'Gap (DELTA)'])\n"
   ]
  },
  {
   "cell_type": "code",
   "execution_count": 388,
   "id": "44716a2e",
   "metadata": {},
   "outputs": [
    {
     "data": {
      "text/html": [
       "<div>\n",
       "<style scoped>\n",
       "    .dataframe tbody tr th:only-of-type {\n",
       "        vertical-align: middle;\n",
       "    }\n",
       "\n",
       "    .dataframe tbody tr th {\n",
       "        vertical-align: top;\n",
       "    }\n",
       "\n",
       "    .dataframe thead th {\n",
       "        text-align: right;\n",
       "    }\n",
       "</style>\n",
       "<table border=\"1\" class=\"dataframe\">\n",
       "  <thead>\n",
       "    <tr style=\"text-align: right;\">\n",
       "      <th></th>\n",
       "      <th>Avg Annual Return</th>\n",
       "      <th>Net-of-Fees Annual Return (Current)</th>\n",
       "      <th>Gap (Current)</th>\n",
       "      <th>Net-of-Fees Annual Return (DELTA)</th>\n",
       "      <th>Gap (DELTA)</th>\n",
       "    </tr>\n",
       "    <tr>\n",
       "      <th>Fund Name</th>\n",
       "      <th></th>\n",
       "      <th></th>\n",
       "      <th></th>\n",
       "      <th></th>\n",
       "      <th></th>\n",
       "    </tr>\n",
       "  </thead>\n",
       "  <tbody>\n",
       "    <tr>\n",
       "      <th>Winton Futures USD Cls B</th>\n",
       "      <td>0.144061</td>\n",
       "      <td>0.099249</td>\n",
       "      <td>0.044812</td>\n",
       "      <td>0.120655</td>\n",
       "      <td>0.023406</td>\n",
       "    </tr>\n",
       "    <tr>\n",
       "      <th>Millennium International Ltd</th>\n",
       "      <td>0.112766</td>\n",
       "      <td>0.074213</td>\n",
       "      <td>0.038553</td>\n",
       "      <td>0.092489</td>\n",
       "      <td>0.020277</td>\n",
       "    </tr>\n",
       "    <tr>\n",
       "      <th>Transtrend DTP - Enhanced Risk (USD)</th>\n",
       "      <td>0.126047</td>\n",
       "      <td>0.084837</td>\n",
       "      <td>0.041209</td>\n",
       "      <td>0.104442</td>\n",
       "      <td>0.021605</td>\n",
       "    </tr>\n",
       "    <tr>\n",
       "      <th>The Genesis Emerging Mkts Invt Com A</th>\n",
       "      <td>0.224571</td>\n",
       "      <td>0.163657</td>\n",
       "      <td>0.060914</td>\n",
       "      <td>0.193114</td>\n",
       "      <td>0.031457</td>\n",
       "    </tr>\n",
       "    <tr>\n",
       "      <th>Aspect Diversified Programme</th>\n",
       "      <td>0.104478</td>\n",
       "      <td>0.067582</td>\n",
       "      <td>0.036896</td>\n",
       "      <td>0.085030</td>\n",
       "      <td>0.019448</td>\n",
       "    </tr>\n",
       "    <tr>\n",
       "      <th>Aurora Offshore Fund Ltd.</th>\n",
       "      <td>0.061189</td>\n",
       "      <td>0.032951</td>\n",
       "      <td>0.028238</td>\n",
       "      <td>0.046070</td>\n",
       "      <td>0.015119</td>\n",
       "    </tr>\n",
       "    <tr>\n",
       "      <th>Permal Macro Holdings Ltd USD A</th>\n",
       "      <td>0.069930</td>\n",
       "      <td>0.039944</td>\n",
       "      <td>0.029986</td>\n",
       "      <td>0.053937</td>\n",
       "      <td>0.015993</td>\n",
       "    </tr>\n",
       "    <tr>\n",
       "      <th>Canyon Value Realization Cayman Ltd A</th>\n",
       "      <td>0.108106</td>\n",
       "      <td>0.070485</td>\n",
       "      <td>0.037621</td>\n",
       "      <td>0.088296</td>\n",
       "      <td>0.019811</td>\n",
       "    </tr>\n",
       "    <tr>\n",
       "      <th>Permal Fixed Income Holdings NV USD A</th>\n",
       "      <td>0.081409</td>\n",
       "      <td>0.049127</td>\n",
       "      <td>0.032282</td>\n",
       "      <td>0.064268</td>\n",
       "      <td>0.017141</td>\n",
       "    </tr>\n",
       "    <tr>\n",
       "      <th>Absolute Alpha Fund PCC Diversified</th>\n",
       "      <td>0.046249</td>\n",
       "      <td>0.020999</td>\n",
       "      <td>0.025250</td>\n",
       "      <td>0.032624</td>\n",
       "      <td>0.013625</td>\n",
       "    </tr>\n",
       "    <tr>\n",
       "      <th>Caxton Global Investments Ltd</th>\n",
       "      <td>0.116706</td>\n",
       "      <td>0.077365</td>\n",
       "      <td>0.039341</td>\n",
       "      <td>0.096035</td>\n",
       "      <td>0.020671</td>\n",
       "    </tr>\n",
       "    <tr>\n",
       "      <th>GAM U.S. Institutional Trading</th>\n",
       "      <td>0.081598</td>\n",
       "      <td>0.049278</td>\n",
       "      <td>0.032320</td>\n",
       "      <td>0.064438</td>\n",
       "      <td>0.017160</td>\n",
       "    </tr>\n",
       "    <tr>\n",
       "      <th>K4D-10V Portfolio</th>\n",
       "      <td>0.067293</td>\n",
       "      <td>0.037834</td>\n",
       "      <td>0.029459</td>\n",
       "      <td>0.051564</td>\n",
       "      <td>0.015729</td>\n",
       "    </tr>\n",
       "    <tr>\n",
       "      <th>K4D-15V Portfolio</th>\n",
       "      <td>0.139796</td>\n",
       "      <td>0.095837</td>\n",
       "      <td>0.043959</td>\n",
       "      <td>0.116816</td>\n",
       "      <td>0.022980</td>\n",
       "    </tr>\n",
       "    <tr>\n",
       "      <th>Orbis Optimal (US$) Fund</th>\n",
       "      <td>0.069061</td>\n",
       "      <td>0.039249</td>\n",
       "      <td>0.029812</td>\n",
       "      <td>0.053155</td>\n",
       "      <td>0.015906</td>\n",
       "    </tr>\n",
       "    <tr>\n",
       "      <th>GAM Trading II USD Open</th>\n",
       "      <td>0.070917</td>\n",
       "      <td>0.040734</td>\n",
       "      <td>0.030183</td>\n",
       "      <td>0.054825</td>\n",
       "      <td>0.016092</td>\n",
       "    </tr>\n",
       "    <tr>\n",
       "      <th>Double Black Diamond Ltd (Carlson)</th>\n",
       "      <td>0.082829</td>\n",
       "      <td>0.050263</td>\n",
       "      <td>0.032566</td>\n",
       "      <td>0.065546</td>\n",
       "      <td>0.017283</td>\n",
       "    </tr>\n",
       "    <tr>\n",
       "      <th>GoldenTree High Yield Master Fund Ltd</th>\n",
       "      <td>0.138149</td>\n",
       "      <td>0.094519</td>\n",
       "      <td>0.043630</td>\n",
       "      <td>0.115334</td>\n",
       "      <td>0.022815</td>\n",
       "    </tr>\n",
       "    <tr>\n",
       "      <th>Bay Resource Partners Offshore Fund Ltd</th>\n",
       "      <td>0.182198</td>\n",
       "      <td>0.129758</td>\n",
       "      <td>0.052440</td>\n",
       "      <td>0.154978</td>\n",
       "      <td>0.027220</td>\n",
       "    </tr>\n",
       "    <tr>\n",
       "      <th>GAM U.S. Institutional Diversity</th>\n",
       "      <td>0.053746</td>\n",
       "      <td>0.026996</td>\n",
       "      <td>0.026749</td>\n",
       "      <td>0.039371</td>\n",
       "      <td>0.014375</td>\n",
       "    </tr>\n",
       "  </tbody>\n",
       "</table>\n",
       "</div>"
      ],
      "text/plain": [
       "                                         Avg Annual Return  \\\n",
       "Fund Name                                                    \n",
       "Winton Futures USD Cls B                          0.144061   \n",
       "Millennium International Ltd                      0.112766   \n",
       "Transtrend DTP - Enhanced Risk (USD)              0.126047   \n",
       "The Genesis Emerging Mkts Invt Com A              0.224571   \n",
       "Aspect Diversified Programme                      0.104478   \n",
       "Aurora Offshore Fund Ltd.                         0.061189   \n",
       "Permal Macro Holdings Ltd USD A                   0.069930   \n",
       "Canyon Value Realization Cayman Ltd A             0.108106   \n",
       "Permal Fixed Income Holdings NV USD A             0.081409   \n",
       "Absolute Alpha Fund PCC Diversified               0.046249   \n",
       "Caxton Global Investments Ltd                     0.116706   \n",
       "GAM U.S. Institutional Trading                    0.081598   \n",
       "K4D-10V Portfolio                                 0.067293   \n",
       "K4D-15V Portfolio                                 0.139796   \n",
       "Orbis Optimal (US$) Fund                          0.069061   \n",
       "GAM Trading II USD Open                           0.070917   \n",
       "Double Black Diamond Ltd (Carlson)                0.082829   \n",
       "GoldenTree High Yield Master Fund Ltd             0.138149   \n",
       "Bay Resource Partners Offshore Fund Ltd           0.182198   \n",
       "GAM U.S. Institutional Diversity                  0.053746   \n",
       "\n",
       "                                         Net-of-Fees Annual Return (Current)  \\\n",
       "Fund Name                                                                      \n",
       "Winton Futures USD Cls B                                            0.099249   \n",
       "Millennium International Ltd                                        0.074213   \n",
       "Transtrend DTP - Enhanced Risk (USD)                                0.084837   \n",
       "The Genesis Emerging Mkts Invt Com A                                0.163657   \n",
       "Aspect Diversified Programme                                        0.067582   \n",
       "Aurora Offshore Fund Ltd.                                           0.032951   \n",
       "Permal Macro Holdings Ltd USD A                                     0.039944   \n",
       "Canyon Value Realization Cayman Ltd A                               0.070485   \n",
       "Permal Fixed Income Holdings NV USD A                               0.049127   \n",
       "Absolute Alpha Fund PCC Diversified                                 0.020999   \n",
       "Caxton Global Investments Ltd                                       0.077365   \n",
       "GAM U.S. Institutional Trading                                      0.049278   \n",
       "K4D-10V Portfolio                                                   0.037834   \n",
       "K4D-15V Portfolio                                                   0.095837   \n",
       "Orbis Optimal (US$) Fund                                            0.039249   \n",
       "GAM Trading II USD Open                                             0.040734   \n",
       "Double Black Diamond Ltd (Carlson)                                  0.050263   \n",
       "GoldenTree High Yield Master Fund Ltd                               0.094519   \n",
       "Bay Resource Partners Offshore Fund Ltd                             0.129758   \n",
       "GAM U.S. Institutional Diversity                                    0.026996   \n",
       "\n",
       "                                         Gap (Current)  \\\n",
       "Fund Name                                                \n",
       "Winton Futures USD Cls B                      0.044812   \n",
       "Millennium International Ltd                  0.038553   \n",
       "Transtrend DTP - Enhanced Risk (USD)          0.041209   \n",
       "The Genesis Emerging Mkts Invt Com A          0.060914   \n",
       "Aspect Diversified Programme                  0.036896   \n",
       "Aurora Offshore Fund Ltd.                     0.028238   \n",
       "Permal Macro Holdings Ltd USD A               0.029986   \n",
       "Canyon Value Realization Cayman Ltd A         0.037621   \n",
       "Permal Fixed Income Holdings NV USD A         0.032282   \n",
       "Absolute Alpha Fund PCC Diversified           0.025250   \n",
       "Caxton Global Investments Ltd                 0.039341   \n",
       "GAM U.S. Institutional Trading                0.032320   \n",
       "K4D-10V Portfolio                             0.029459   \n",
       "K4D-15V Portfolio                             0.043959   \n",
       "Orbis Optimal (US$) Fund                      0.029812   \n",
       "GAM Trading II USD Open                       0.030183   \n",
       "Double Black Diamond Ltd (Carlson)            0.032566   \n",
       "GoldenTree High Yield Master Fund Ltd         0.043630   \n",
       "Bay Resource Partners Offshore Fund Ltd       0.052440   \n",
       "GAM U.S. Institutional Diversity              0.026749   \n",
       "\n",
       "                                         Net-of-Fees Annual Return (DELTA)  \\\n",
       "Fund Name                                                                    \n",
       "Winton Futures USD Cls B                                          0.120655   \n",
       "Millennium International Ltd                                      0.092489   \n",
       "Transtrend DTP - Enhanced Risk (USD)                              0.104442   \n",
       "The Genesis Emerging Mkts Invt Com A                              0.193114   \n",
       "Aspect Diversified Programme                                      0.085030   \n",
       "Aurora Offshore Fund Ltd.                                         0.046070   \n",
       "Permal Macro Holdings Ltd USD A                                   0.053937   \n",
       "Canyon Value Realization Cayman Ltd A                             0.088296   \n",
       "Permal Fixed Income Holdings NV USD A                             0.064268   \n",
       "Absolute Alpha Fund PCC Diversified                               0.032624   \n",
       "Caxton Global Investments Ltd                                     0.096035   \n",
       "GAM U.S. Institutional Trading                                    0.064438   \n",
       "K4D-10V Portfolio                                                 0.051564   \n",
       "K4D-15V Portfolio                                                 0.116816   \n",
       "Orbis Optimal (US$) Fund                                          0.053155   \n",
       "GAM Trading II USD Open                                           0.054825   \n",
       "Double Black Diamond Ltd (Carlson)                                0.065546   \n",
       "GoldenTree High Yield Master Fund Ltd                             0.115334   \n",
       "Bay Resource Partners Offshore Fund Ltd                           0.154978   \n",
       "GAM U.S. Institutional Diversity                                  0.039371   \n",
       "\n",
       "                                         Gap (DELTA)  \n",
       "Fund Name                                             \n",
       "Winton Futures USD Cls B                    0.023406  \n",
       "Millennium International Ltd                0.020277  \n",
       "Transtrend DTP - Enhanced Risk (USD)        0.021605  \n",
       "The Genesis Emerging Mkts Invt Com A        0.031457  \n",
       "Aspect Diversified Programme                0.019448  \n",
       "Aurora Offshore Fund Ltd.                   0.015119  \n",
       "Permal Macro Holdings Ltd USD A             0.015993  \n",
       "Canyon Value Realization Cayman Ltd A       0.019811  \n",
       "Permal Fixed Income Holdings NV USD A       0.017141  \n",
       "Absolute Alpha Fund PCC Diversified         0.013625  \n",
       "Caxton Global Investments Ltd               0.020671  \n",
       "GAM U.S. Institutional Trading              0.017160  \n",
       "K4D-10V Portfolio                           0.015729  \n",
       "K4D-15V Portfolio                           0.022980  \n",
       "Orbis Optimal (US$) Fund                    0.015906  \n",
       "GAM Trading II USD Open                     0.016092  \n",
       "Double Black Diamond Ltd (Carlson)          0.017283  \n",
       "GoldenTree High Yield Master Fund Ltd       0.022815  \n",
       "Bay Resource Partners Offshore Fund Ltd     0.027220  \n",
       "GAM U.S. Institutional Diversity            0.014375  "
      ]
     },
     "execution_count": 388,
     "metadata": {},
     "output_type": "execute_result"
    }
   ],
   "source": [
    "for i in range(len(lists)):\n",
    "    mean = df_6.iloc[:,1:].mean(axis=1)\n",
    "    main = main.append({'Fund Name' : lists[i],\n",
    "                            'Avg Annual Return' : mean[i],\n",
    "                            'Net-of-Fees Annual Return (Current)' : (mean[i]-0.02)*(0.8), \n",
    "                            'Gap (Current)': mean[i]-(mean[i]-0.02)*(0.8),\n",
    "                            'Net-of-Fees Annual Return (DELTA)' : (mean[i]-0.01)*(0.9), \n",
    "                            'Gap (DELTA)': mean[i]-(mean[i]-0.01)*(0.9),\n",
    "                           },ignore_index = True)\n",
    "main.set_index('Fund Name')"
   ]
  },
  {
   "cell_type": "code",
   "execution_count": 391,
   "id": "054df6dd",
   "metadata": {},
   "outputs": [
    {
     "data": {
      "text/html": [
       "<div>\n",
       "<style scoped>\n",
       "    .dataframe tbody tr th:only-of-type {\n",
       "        vertical-align: middle;\n",
       "    }\n",
       "\n",
       "    .dataframe tbody tr th {\n",
       "        vertical-align: top;\n",
       "    }\n",
       "\n",
       "    .dataframe thead th {\n",
       "        text-align: right;\n",
       "    }\n",
       "</style>\n",
       "<table border=\"1\" class=\"dataframe\">\n",
       "  <thead>\n",
       "    <tr style=\"text-align: right;\">\n",
       "      <th></th>\n",
       "      <th>2001</th>\n",
       "      <th>2002</th>\n",
       "      <th>2003</th>\n",
       "      <th>2004</th>\n",
       "      <th>2005</th>\n",
       "      <th>2006</th>\n",
       "      <th>2007</th>\n",
       "      <th>2008</th>\n",
       "      <th>2009</th>\n",
       "      <th>2010</th>\n",
       "      <th>2011</th>\n",
       "    </tr>\n",
       "    <tr>\n",
       "      <th>Returns</th>\n",
       "      <th></th>\n",
       "      <th></th>\n",
       "      <th></th>\n",
       "      <th></th>\n",
       "      <th></th>\n",
       "      <th></th>\n",
       "      <th></th>\n",
       "      <th></th>\n",
       "      <th></th>\n",
       "      <th></th>\n",
       "      <th></th>\n",
       "    </tr>\n",
       "  </thead>\n",
       "  <tbody>\n",
       "    <tr>\n",
       "      <th>Average FOFs</th>\n",
       "      <td>0.166783</td>\n",
       "      <td>0.119321</td>\n",
       "      <td>0.179219</td>\n",
       "      <td>0.093675</td>\n",
       "      <td>0.090917</td>\n",
       "      <td>0.130950</td>\n",
       "      <td>0.123649</td>\n",
       "      <td>-0.038843</td>\n",
       "      <td>0.200249</td>\n",
       "      <td>0.100938</td>\n",
       "      <td>-0.022254</td>\n",
       "    </tr>\n",
       "    <tr>\n",
       "      <th>Net-of-Fees Annual Return (Current)</th>\n",
       "      <td>0.117427</td>\n",
       "      <td>0.079456</td>\n",
       "      <td>0.127375</td>\n",
       "      <td>0.058940</td>\n",
       "      <td>0.056734</td>\n",
       "      <td>0.088760</td>\n",
       "      <td>0.082919</td>\n",
       "      <td>-0.047074</td>\n",
       "      <td>0.144199</td>\n",
       "      <td>0.064751</td>\n",
       "      <td>-0.033803</td>\n",
       "    </tr>\n",
       "    <tr>\n",
       "      <th>Gap (Current)</th>\n",
       "      <td>0.049357</td>\n",
       "      <td>0.039864</td>\n",
       "      <td>0.051844</td>\n",
       "      <td>0.034735</td>\n",
       "      <td>0.034183</td>\n",
       "      <td>0.042190</td>\n",
       "      <td>0.040730</td>\n",
       "      <td>0.008231</td>\n",
       "      <td>0.056050</td>\n",
       "      <td>0.036188</td>\n",
       "      <td>0.011549</td>\n",
       "    </tr>\n",
       "    <tr>\n",
       "      <th>Net-of-Fees Annual Return (DELTA)</th>\n",
       "      <td>0.141105</td>\n",
       "      <td>0.098389</td>\n",
       "      <td>0.152297</td>\n",
       "      <td>0.075307</td>\n",
       "      <td>0.072825</td>\n",
       "      <td>0.108855</td>\n",
       "      <td>0.102284</td>\n",
       "      <td>-0.043959</td>\n",
       "      <td>0.171224</td>\n",
       "      <td>0.081845</td>\n",
       "      <td>-0.029029</td>\n",
       "    </tr>\n",
       "    <tr>\n",
       "      <th>Gap (DELTA)</th>\n",
       "      <td>0.025678</td>\n",
       "      <td>0.020932</td>\n",
       "      <td>0.026922</td>\n",
       "      <td>0.018367</td>\n",
       "      <td>0.018092</td>\n",
       "      <td>0.022095</td>\n",
       "      <td>0.021365</td>\n",
       "      <td>0.005116</td>\n",
       "      <td>0.029025</td>\n",
       "      <td>0.019094</td>\n",
       "      <td>0.006775</td>\n",
       "    </tr>\n",
       "  </tbody>\n",
       "</table>\n",
       "</div>"
      ],
      "text/plain": [
       "                                         2001      2002      2003      2004  \\\n",
       "Returns                                                                       \n",
       "Average FOFs                         0.166783  0.119321  0.179219  0.093675   \n",
       "Net-of-Fees Annual Return (Current)  0.117427  0.079456  0.127375  0.058940   \n",
       "Gap (Current)                        0.049357  0.039864  0.051844  0.034735   \n",
       "Net-of-Fees Annual Return (DELTA)    0.141105  0.098389  0.152297  0.075307   \n",
       "Gap (DELTA)                          0.025678  0.020932  0.026922  0.018367   \n",
       "\n",
       "                                         2005      2006      2007      2008  \\\n",
       "Returns                                                                       \n",
       "Average FOFs                         0.090917  0.130950  0.123649 -0.038843   \n",
       "Net-of-Fees Annual Return (Current)  0.056734  0.088760  0.082919 -0.047074   \n",
       "Gap (Current)                        0.034183  0.042190  0.040730  0.008231   \n",
       "Net-of-Fees Annual Return (DELTA)    0.072825  0.108855  0.102284 -0.043959   \n",
       "Gap (DELTA)                          0.018092  0.022095  0.021365  0.005116   \n",
       "\n",
       "                                         2009      2010      2011  \n",
       "Returns                                                            \n",
       "Average FOFs                         0.200249  0.100938 -0.022254  \n",
       "Net-of-Fees Annual Return (Current)  0.144199  0.064751 -0.033803  \n",
       "Gap (Current)                        0.056050  0.036188  0.011549  \n",
       "Net-of-Fees Annual Return (DELTA)    0.171224  0.081845 -0.029029  \n",
       "Gap (DELTA)                          0.029025  0.019094  0.006775  "
      ]
     },
     "execution_count": 391,
     "metadata": {},
     "output_type": "execute_result"
    }
   ],
   "source": [
    "List1 = ['Average FOFs'] +  df_5.iloc[:,2:].mean().tolist()\n",
    "List2 = ['Net-of-Fees Annual Return (Current)'] +  ((df_5.iloc[:,2:].mean()-0.02)*(0.8)).tolist()\n",
    "List3 = ['Gap (Current)'] +  (df_5.iloc[:,2:].mean()-(df_5.iloc[:,2:].mean()-0.02)*(0.8)).tolist()\n",
    "List4 = ['Net-of-Fees Annual Return (DELTA)'] +  ((df_5.iloc[:,2:].mean()-0.01)*(0.9)).tolist()\n",
    "List5 = ['Gap (DELTA)'] +  (df_5.iloc[:,2:].mean()-(df_5.iloc[:,2:].mean()-0.01)*(0.9)).tolist()\n",
    "Data = [List1,List2,List3,List4,List5]\n",
    "\n",
    "yearlist = list(df_5.iloc[:,2:].mean().index)\n",
    "total = ['Returns'] + yearlist\n",
    "main_2 = pd.DataFrame(columns = total,data = Data)\n",
    "main_2.set_index('Returns')"
   ]
  },
  {
   "cell_type": "markdown",
   "id": "084dde65",
   "metadata": {},
   "source": [
    "### Q6.\n",
    "##### 6.\tBuild a deep learning model, preferably a recurrent neural network model, to forecast the expected return of the 10 indexes in a single model.  "
   ]
  },
  {
   "cell_type": "code",
   "execution_count": 211,
   "id": "3184e2d6",
   "metadata": {},
   "outputs": [],
   "source": [
    "df_6 = pd.read_csv(\"Q4.csv\", index_col=\"Date_\")\n",
    "df_6=df_6.drop(columns=['Year','Month','Date'],axis=1)\n",
    "\n",
    "df_6=df_6.rename(columns={\"HFRI EQUITY HEDGE (TOTAL) - TOT RETURN IND\": \"HFRI_T\"})\n",
    "df_6=df_6.rename(columns={\"HFRI FUND OF FUNDS COMPOSITE - TOT RETURN IND\": \"HFRI_F0Fs\"})\n",
    "df_6=df_6.rename(columns={\"HFRI FUND WEIGHTED HEDGE FUND - TOT RETURN IND\": \"HFRI_W\"})\n",
    "df_6=df_6.rename(columns={\"MSCI EM - TOT RETURN IND\": \"MSCI_EM\"})\n",
    "df_6=df_6.rename(columns={\"MSCI EAFE - TOT RETURN IND\": \"MSCI_EAFE\"})\n",
    "df_6=df_6.rename(columns={\"RUSSELL 2000 - PRICE INDEX\": \"RUS2000\"})\n",
    "df_6=df_6.rename(columns={\"S&P 500 COMPOSITE - TOT RETURN IND\": \"SP500\"})\n",
    "df_6=df_6.rename(columns={\"BARCLAYS US TREASURY BELLWETHERS 2Y - TOTAL RETURN MTD\": \"BAR_2Y\"})\n",
    "df_6=df_6.rename(columns={\"BARCLAYS US TREASURY BELLWETHERS 10Y - TOTAL RETURN MTD\": \"BAR_10Y\"})\n",
    "df_6=df_6.rename(columns={\"Barclay Currency Traders Index - TOT RETURN IND\": \"BAR_CUR\"})\n",
    "data = df_6\n",
    "cols = list(df_6.columns)"
   ]
  },
  {
   "cell_type": "code",
   "execution_count": 212,
   "id": "c992e5e9",
   "metadata": {},
   "outputs": [],
   "source": [
    "def lag(lag):\n",
    "    cools = []\n",
    "    for i in range(len(cols)):\n",
    "        col = f'{cols[i]}_{lag}'\n",
    "        data[col] = data[cols[i]].shift(lag)\n",
    "        cools.append(col)\n",
    "    data.dropna(inplace=True)\n",
    "    return data"
   ]
  },
  {
   "cell_type": "code",
   "execution_count": 213,
   "id": "6a80738b",
   "metadata": {},
   "outputs": [],
   "source": [
    "lags = 10\n",
    "for i in range(1, lags + 1): \n",
    "    lag(i)    "
   ]
  },
  {
   "cell_type": "code",
   "execution_count": 214,
   "id": "317f1267",
   "metadata": {},
   "outputs": [],
   "source": [
    "colf  = list(data.columns[10:])\n"
   ]
  },
  {
   "cell_type": "code",
   "execution_count": 215,
   "id": "e858e347",
   "metadata": {},
   "outputs": [],
   "source": [
    "import tensorflow as tf\n",
    "from tensorflow.keras.optimizers import Adam\n",
    "from keras.models import Sequential\n",
    "from keras.layers import Dense\n",
    "import random"
   ]
  },
  {
   "cell_type": "code",
   "execution_count": 216,
   "id": "761f9701",
   "metadata": {},
   "outputs": [],
   "source": [
    "optimizer = Adam(learning_rate=0.0001)"
   ]
  },
  {
   "cell_type": "code",
   "execution_count": 217,
   "id": "d2ff33aa",
   "metadata": {},
   "outputs": [],
   "source": [
    "def set_seeds(seed=100):\n",
    "    random.seed(seed)\n",
    "    np.random.seed(seed)\n",
    "    tf.random.set_seed(100)\n",
    "    "
   ]
  },
  {
   "cell_type": "code",
   "execution_count": 218,
   "id": "742ef99b",
   "metadata": {},
   "outputs": [],
   "source": [
    "set_seeds()\n",
    "model = Sequential()\n",
    "model.add(Dense(32, activation='relu',\n",
    "        input_shape=(len(colf),)))\n",
    "model.add(Dense(32, activation='relu'))\n",
    "model.add(Dense(1, activation='sigmoid')) # <5>\n",
    "model.compile(optimizer=optimizer,\n",
    "              loss='binary_crossentropy',\n",
    "              metrics=['accuracy'])"
   ]
  },
  {
   "cell_type": "code",
   "execution_count": 219,
   "id": "2ae8c957",
   "metadata": {},
   "outputs": [],
   "source": [
    "cutoff = '19991231'\n",
    "data.index[:47]\n",
    "data.loc[data.index[:47]]\n",
    "training_data = data.loc[data.index[:47]].copy()\n",
    "mu, std = training_data.mean(), training_data.std()\n",
    "training_data_ = (training_data - mu) / std\n",
    "test_data = data.loc[data.index[47:47+12]].copy()\n",
    "test_data_ = (test_data - mu) / std"
   ]
  },
  {
   "cell_type": "code",
   "execution_count": 220,
   "id": "3dfcfecb",
   "metadata": {},
   "outputs": [],
   "source": [
    "training_data['Direction'] = np.where(training_data['HFRI_T'] > 0, 1, 0)\n",
    "test_data['Direction'] = np.where(test_data['HFRI_T'] > 0, 1, 0)\n"
   ]
  },
  {
   "cell_type": "code",
   "execution_count": 221,
   "id": "a47d10c2",
   "metadata": {},
   "outputs": [
    {
     "name": "stdout",
     "output_type": "stream",
     "text": [
      "Wall time: 1.11 s\n"
     ]
    },
    {
     "data": {
      "text/plain": [
       "<keras.callbacks.History at 0x21c3845ff40>"
      ]
     },
     "execution_count": 221,
     "metadata": {},
     "output_type": "execute_result"
    }
   ],
   "source": [
    "%%time\n",
    "model.fit(training_data_[colf],\n",
    "          training_data['Direction'],\n",
    "          epochs=50, verbose=False,\n",
    "          validation_split=0.2, shuffle=False)"
   ]
  },
  {
   "cell_type": "code",
   "execution_count": 222,
   "id": "696ebc83",
   "metadata": {},
   "outputs": [
    {
     "data": {
      "image/png": "[encoded data removed]",
      "text/plain": [
       "<Figure size 720x432 with 1 Axes>"
      ]
     },
     "metadata": {
      "needs_background": "light"
     },
     "output_type": "display_data"
    }
   ],
   "source": [
    "res = pd.DataFrame(model.history.history)\n",
    "res[['accuracy', 'val_accuracy']].plot(figsize=(10, 6), style='--');\n"
   ]
  },
  {
   "cell_type": "code",
   "execution_count": 223,
   "id": "e9a52d80",
   "metadata": {},
   "outputs": [
    {
     "name": "stdout",
     "output_type": "stream",
     "text": [
      "2/2 [==============================] - 0s 2ms/step - loss: 0.6444 - accuracy: 0.5957\n"
     ]
    },
    {
     "data": {
      "text/plain": [
       "[0.644412100315094, 0.5957446694374084]"
      ]
     },
     "execution_count": 223,
     "metadata": {},
     "output_type": "execute_result"
    }
   ],
   "source": [
    "model.evaluate(training_data_[colf], training_data['Direction'])"
   ]
  },
  {
   "cell_type": "code",
   "execution_count": 224,
   "id": "61de4f65",
   "metadata": {},
   "outputs": [],
   "source": [
    "pred = (model.predict(training_data_[colf]) > 0.5).astype(\"int32\")\n"
   ]
  },
  {
   "cell_type": "code",
   "execution_count": 237,
   "id": "b8bca490",
   "metadata": {},
   "outputs": [
    {
     "data": {
      "text/plain": [
       "array([[0],\n",
       "       [0],\n",
       "       [0],\n",
       "       [1],\n",
       "       [1],\n",
       "       [0],\n",
       "       [0],\n",
       "       [1],\n",
       "       [1],\n",
       "       [1],\n",
       "       [1],\n",
       "       [0]])"
      ]
     },
     "execution_count": 237,
     "metadata": {},
     "output_type": "execute_result"
    }
   ],
   "source": [
    "pred"
   ]
  },
  {
   "cell_type": "code",
   "execution_count": 225,
   "id": "b5800afd",
   "metadata": {},
   "outputs": [],
   "source": [
    "training_data['prediction'] = np.where(pred > 0, 1, -1)\n"
   ]
  },
  {
   "cell_type": "code",
   "execution_count": 226,
   "id": "ed521f7e",
   "metadata": {},
   "outputs": [],
   "source": [
    "training_data['strategy'] = (training_data['prediction'] *\n",
    "                            training_data['HFRI_T'])"
   ]
  },
  {
   "cell_type": "code",
   "execution_count": 227,
   "id": "2769a776",
   "metadata": {},
   "outputs": [
    {
     "data": {
      "text/plain": [
       "HFRI_T      1.201043\n",
       "strategy    1.276693\n",
       "dtype: float64"
      ]
     },
     "execution_count": 227,
     "metadata": {},
     "output_type": "execute_result"
    }
   ],
   "source": [
    "training_data[['HFRI_T', 'strategy']].sum().apply(np.exp)"
   ]
  },
  {
   "cell_type": "code",
   "execution_count": 228,
   "id": "48b4d497",
   "metadata": {},
   "outputs": [
    {
     "data": {
      "image/png": "[encoded data removed]",
      "text/plain": [
       "<Figure size 720x432 with 1 Axes>"
      ]
     },
     "metadata": {
      "needs_background": "light"
     },
     "output_type": "display_data"
    }
   ],
   "source": [
    "training_data[['HFRI_T', 'strategy']].cumsum(\n",
    "                ).apply(np.exp).plot(figsize=(10, 6));"
   ]
  },
  {
   "cell_type": "code",
   "execution_count": 229,
   "id": "7c9e4824",
   "metadata": {},
   "outputs": [
    {
     "name": "stdout",
     "output_type": "stream",
     "text": [
      "1/1 [==============================] - 0s 13ms/step - loss: 0.7040 - accuracy: 0.5833\n"
     ]
    },
    {
     "data": {
      "text/plain": [
       "[0.7040066123008728, 0.5833333134651184]"
      ]
     },
     "execution_count": 229,
     "metadata": {},
     "output_type": "execute_result"
    }
   ],
   "source": [
    "model.evaluate(test_data_[colf], test_data['Direction'])"
   ]
  },
  {
   "cell_type": "code",
   "execution_count": 230,
   "id": "fde9bb3c",
   "metadata": {},
   "outputs": [],
   "source": [
    "pred = (model.predict(test_data_[colf]) > 0.5).astype(\"int32\")\n"
   ]
  },
  {
   "cell_type": "code",
   "execution_count": 231,
   "id": "b2c863fd",
   "metadata": {},
   "outputs": [],
   "source": [
    "test_data['prediction'] = np.where(pred > 0, 1, -1)"
   ]
  },
  {
   "cell_type": "code",
   "execution_count": 232,
   "id": "16022b3e",
   "metadata": {},
   "outputs": [
    {
     "data": {
      "text/plain": [
       "-1    6\n",
       " 1    6\n",
       "Name: prediction, dtype: int64"
      ]
     },
     "execution_count": 232,
     "metadata": {},
     "output_type": "execute_result"
    }
   ],
   "source": [
    "test_data['prediction'].value_counts()"
   ]
  },
  {
   "cell_type": "code",
   "execution_count": 233,
   "id": "f2fce15a",
   "metadata": {},
   "outputs": [],
   "source": [
    "test_data['strategy'] = (test_data['prediction'] *\n",
    "                        test_data['HFRI_T'])"
   ]
  },
  {
   "cell_type": "code",
   "execution_count": 234,
   "id": "9810cdb6",
   "metadata": {},
   "outputs": [
    {
     "data": {
      "text/plain": [
       "HFRI_T      1.073764\n",
       "strategy    1.013723\n",
       "dtype: float64"
      ]
     },
     "execution_count": 234,
     "metadata": {},
     "output_type": "execute_result"
    }
   ],
   "source": [
    "test_data[['HFRI_T', 'strategy']].sum().apply(np.exp)"
   ]
  },
  {
   "cell_type": "code",
   "execution_count": 235,
   "id": "2f172254",
   "metadata": {},
   "outputs": [
    {
     "data": {
      "image/png": "[encoded data removed]",
      "text/plain": [
       "<Figure size 720x432 with 1 Axes>"
      ]
     },
     "metadata": {
      "needs_background": "light"
     },
     "output_type": "display_data"
    }
   ],
   "source": [
    "test_data[['HFRI_T', 'strategy']].cumsum(\n",
    "                ).apply(np.exp).plot(figsize=(10, 6));"
   ]
  },
  {
   "cell_type": "code",
   "execution_count": 236,
   "id": "5ff8e2f0",
   "metadata": {},
   "outputs": [
    {
     "data": {
      "text/plain": [
       "0.0004968548165487"
      ]
     },
     "execution_count": 236,
     "metadata": {},
     "output_type": "execute_result"
    }
   ],
   "source": [
    "from sklearn.metrics import mean_squared_error\n",
    "mean_squared_error(test_data['HFRI_T'], test_data['strategy'])"
   ]
  },
  {
   "cell_type": "code",
   "execution_count": null,
   "id": "ed288cfd",
   "metadata": {},
   "outputs": [],
   "source": []
  }
 ],
 "metadata": {
  "kernelspec": {
   "display_name": "Python 3 (ipykernel)",
   "language": "python",
   "name": "python3"
  },
  "language_info": {
   "codemirror_mode": {
    "name": "ipython",
    "version": 3
   },
   "file_extension": ".py",
   "mimetype": "text/x-python",
   "name": "python",
   "nbconvert_exporter": "python",
   "pygments_lexer": "ipython3",
   "version": "3.9.7"
  }
 },
 "nbformat": 4,
 "nbformat_minor": 5
}
