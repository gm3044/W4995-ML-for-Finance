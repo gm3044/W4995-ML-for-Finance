{
 "cells": [
  {
   "cell_type": "markdown",
   "id": "4e8acb0a",
   "metadata": {},
   "source": [
    "### Q1. Should AQR launch its momentum funds?\n"
   ]
  },
  {
   "cell_type": "markdown",
   "id": "dee38979",
   "metadata": {},
   "source": [
    "### The answer is yes, and my reasonings are below:\n",
    "### 1. Exhibits 1 and 2 (of the case) have clearly provided us with concrete evidences for the benefits of implementing momentum strategy comparing to that of \"market portfolio\"  using back tests.  The big picture question then becomes wherther or not AQR could develop a momentum stratgy without using a short position which is prohibited by the regulation of mutual funds. For example, whether or not  a backtest using repeatly rebalancing of the top 33 percentiles of the 1000 US stocks (large cap) can consistently beat the market portolio (such as SP500). The case mentioned that their large-cap momentum strategy outperform Russell 1000 growth index by 3.2 percent per year over the same period tells us that this is a pass for me.\n",
    "\n",
    "### 2. If the big picture is clear, then the remaining question becomes how to balance between sticking to the exact momentum strategy and pragmatic benefits of not doing so in practise (e.g., the example discussed in the case where XYZ should be replaced by ABC but with marginal benefits to do so). In my view, profolio manager should develop flexible plans for marginal differences based on emperical performances. For instance, if the ranking of certain stocks at the end is between (325 - 350 +- 50) of period2 1 and 2 and if the tax and return benefits outweight swap stocks XYZ for ABC, then they should not do so.\n",
    "### 3. Some other potential outperform indicators should also be taken into considration since momentum funds is the main feature but should not be the only feature.\n"
   ]
  },
  {
   "cell_type": "code",
   "execution_count": 105,
   "id": "afb7660e",
   "metadata": {},
   "outputs": [],
   "source": [
    "import pandas as pd\n",
    "import numpy as np\n",
    "import statsmodels.api as sm"
   ]
  },
  {
   "cell_type": "markdown",
   "id": "f0a24285",
   "metadata": {},
   "source": [
    "### Q2. Do you believe the Fama-French momentum (UMD/MOM) factor will have returns over the next decade that are significantly greater than zero, significantly less than zero, or approximately zero? Use the historical data to do your analysis."
   ]
  },
  {
   "cell_type": "markdown",
   "id": "95d5597d",
   "metadata": {},
   "source": [
    "### My andser is yes. To partially support my assertion, I consider a Fama-French multi-factor regression below using \"High-low\" portfolio as the dependent variable and \" Premium\",\t\"HML\",\t\"SMB\", and\t\"UMD\" as independent variables. If UMD turns out to generate returns over the past few decades consistantly statistically significantly different from zero, we might very likely to expect this phenomena over the next decede. \n",
    "\n",
    "### As you may see from the regression result table: UMD: 1.4312      0.102     13.991      0.000.\n",
    "### How do we interpret it? It means 1% increase of UMD factor will be associated with 1.43% increase of the \"High-low\" momentum portfolio, and since the standard error is 0.102, the t-test is 13.991 which is a lot larger than the 0.05 threhold(1.96), meaning we can reject the null hypothesis (H_o = UMD has null effect) at the 1 percent signficant level.\n",
    "### Therefore, this provide quantitative evidence to support my assertion based on historical data using multi-factor regression.\n",
    "\n"
   ]
  },
  {
   "cell_type": "code",
   "execution_count": 151,
   "id": "59f38ff3",
   "metadata": {},
   "outputs": [
    {
     "data": {
      "text/html": [
       "<div>\n",
       "<style scoped>\n",
       "    .dataframe tbody tr th:only-of-type {\n",
       "        vertical-align: middle;\n",
       "    }\n",
       "\n",
       "    .dataframe tbody tr th {\n",
       "        vertical-align: top;\n",
       "    }\n",
       "\n",
       "    .dataframe thead th {\n",
       "        text-align: right;\n",
       "    }\n",
       "</style>\n",
       "<table border=\"1\" class=\"dataframe\">\n",
       "  <thead>\n",
       "    <tr style=\"text-align: right;\">\n",
       "      <th></th>\n",
       "      <th>Dependent</th>\n",
       "      <th>Premium</th>\n",
       "      <th>HML</th>\n",
       "      <th>SMB</th>\n",
       "      <th>UMD</th>\n",
       "    </tr>\n",
       "    <tr>\n",
       "      <th>Year</th>\n",
       "      <th></th>\n",
       "      <th></th>\n",
       "      <th></th>\n",
       "      <th></th>\n",
       "      <th></th>\n",
       "    </tr>\n",
       "  </thead>\n",
       "  <tbody>\n",
       "    <tr>\n",
       "      <th>1927-01-01</th>\n",
       "      <td>0.4895</td>\n",
       "      <td>0.3029</td>\n",
       "      <td>-0.0363</td>\n",
       "      <td>-0.029933</td>\n",
       "      <td>0.22880</td>\n",
       "    </tr>\n",
       "    <tr>\n",
       "      <th>1928-01-01</th>\n",
       "      <td>0.7461</td>\n",
       "      <td>0.3551</td>\n",
       "      <td>-0.05145</td>\n",
       "      <td>0.034267</td>\n",
       "      <td>0.27505</td>\n",
       "    </tr>\n",
       "    <tr>\n",
       "      <th>1929-01-01</th>\n",
       "      <td>0.2772</td>\n",
       "      <td>-0.1976</td>\n",
       "      <td>0.1192</td>\n",
       "      <td>-0.297900</td>\n",
       "      <td>0.21265</td>\n",
       "    </tr>\n",
       "    <tr>\n",
       "      <th>1930-01-01</th>\n",
       "      <td>0.3371</td>\n",
       "      <td>-0.3124</td>\n",
       "      <td>-0.13495</td>\n",
       "      <td>-0.044967</td>\n",
       "      <td>0.26420</td>\n",
       "    </tr>\n",
       "    <tr>\n",
       "      <th>1931-01-01</th>\n",
       "      <td>0.4028</td>\n",
       "      <td>-0.4544</td>\n",
       "      <td>-0.1593</td>\n",
       "      <td>0.042300</td>\n",
       "      <td>0.24280</td>\n",
       "    </tr>\n",
       "    <tr>\n",
       "      <th>...</th>\n",
       "      <td>...</td>\n",
       "      <td>...</td>\n",
       "      <td>...</td>\n",
       "      <td>...</td>\n",
       "      <td>...</td>\n",
       "    </tr>\n",
       "    <tr>\n",
       "      <th>2004-01-01</th>\n",
       "      <td>-0.1415</td>\n",
       "      <td>0.1181</td>\n",
       "      <td>0.09735</td>\n",
       "      <td>0.049033</td>\n",
       "      <td>-0.00500</td>\n",
       "    </tr>\n",
       "    <tr>\n",
       "      <th>2005-01-01</th>\n",
       "      <td>0.1726</td>\n",
       "      <td>0.0434</td>\n",
       "      <td>0.0895</td>\n",
       "      <td>-0.022400</td>\n",
       "      <td>0.15465</td>\n",
       "    </tr>\n",
       "    <tr>\n",
       "      <th>2006-01-01</th>\n",
       "      <td>-0.1850</td>\n",
       "      <td>0.1139</td>\n",
       "      <td>0.1434</td>\n",
       "      <td>0.004967</td>\n",
       "      <td>-0.07835</td>\n",
       "    </tr>\n",
       "    <tr>\n",
       "      <th>2007-01-01</th>\n",
       "      <td>0.4362</td>\n",
       "      <td>0.0265</td>\n",
       "      <td>-0.12485</td>\n",
       "      <td>-0.082167</td>\n",
       "      <td>0.21380</td>\n",
       "    </tr>\n",
       "    <tr>\n",
       "      <th>2008-01-01</th>\n",
       "      <td>0.3037</td>\n",
       "      <td>-0.3994</td>\n",
       "      <td>0.01005</td>\n",
       "      <td>0.041833</td>\n",
       "      <td>0.13390</td>\n",
       "    </tr>\n",
       "  </tbody>\n",
       "</table>\n",
       "<p>82 rows × 5 columns</p>\n",
       "</div>"
      ],
      "text/plain": [
       "            Dependent  Premium       HML       SMB      UMD\n",
       "Year                                                       \n",
       "1927-01-01     0.4895   0.3029   -0.0363 -0.029933  0.22880\n",
       "1928-01-01     0.7461   0.3551  -0.05145  0.034267  0.27505\n",
       "1929-01-01     0.2772  -0.1976    0.1192 -0.297900  0.21265\n",
       "1930-01-01     0.3371  -0.3124  -0.13495 -0.044967  0.26420\n",
       "1931-01-01     0.4028  -0.4544   -0.1593  0.042300  0.24280\n",
       "...               ...      ...       ...       ...      ...\n",
       "2004-01-01    -0.1415   0.1181   0.09735  0.049033 -0.00500\n",
       "2005-01-01     0.1726   0.0434    0.0895 -0.022400  0.15465\n",
       "2006-01-01    -0.1850   0.1139    0.1434  0.004967 -0.07835\n",
       "2007-01-01     0.4362   0.0265  -0.12485 -0.082167  0.21380\n",
       "2008-01-01     0.3037  -0.3994   0.01005  0.041833  0.13390\n",
       "\n",
       "[82 rows x 5 columns]"
      ]
     },
     "execution_count": 151,
     "metadata": {},
     "output_type": "execute_result"
    }
   ],
   "source": [
    "df_1= pd.read_csv(\"UMDtest_.csv\", parse_dates=True, index_col=\"Year\")\n",
    "df_1 = df_1.dropna()\n",
    "df_1 = df_1.drop(columns='U')\n",
    "df_1.rename(columns={\"High-Low\":\"Dependent\"}, inplace=True)\n",
    "df_1.rename(columns={\"Mkt-RF\":\"Premium\"}, inplace=True)\n",
    "df_1"
   ]
  },
  {
   "cell_type": "code",
   "execution_count": 146,
   "id": "7dd327d6",
   "metadata": {},
   "outputs": [
    {
     "name": "stdout",
     "output_type": "stream",
     "text": [
      "                            OLS Regression Results                            \n",
      "==============================================================================\n",
      "Dep. Variable:              Dependent   R-squared:                       0.754\n",
      "Model:                            OLS   Adj. R-squared:                  0.741\n",
      "Method:                 Least Squares   F-statistic:                     59.06\n",
      "Date:                Sat, 11 Jun 2022   Prob (F-statistic):           1.04e-22\n",
      "Time:                        08:31:40   Log-Likelihood:                 68.832\n",
      "No. Observations:                  82   AIC:                            -127.7\n",
      "Df Residuals:                      77   BIC:                            -115.6\n",
      "Df Model:                           4                                         \n",
      "Covariance Type:            nonrobust                                         \n",
      "==============================================================================\n",
      "                 coef    std err          t      P>|t|      [0.025      0.975]\n",
      "------------------------------------------------------------------------------\n",
      "const          0.0324      0.018      1.766      0.081      -0.004       0.069\n",
      "Premium        0.0219      0.063      0.347      0.729      -0.103       0.147\n",
      "HML           -0.0318      0.090     -0.353      0.725      -0.211       0.148\n",
      "SMB           -0.2499      0.092     -2.719      0.008      -0.433      -0.067\n",
      "UMD            1.4312      0.102     13.991      0.000       1.227       1.635\n",
      "==============================================================================\n",
      "Omnibus:                        8.049   Durbin-Watson:                   1.450\n",
      "Prob(Omnibus):                  0.018   Jarque-Bera (JB):               10.051\n",
      "Skew:                          -0.442   Prob(JB):                      0.00657\n",
      "Kurtosis:                       4.470   Cond. No.                         9.55\n",
      "==============================================================================\n",
      "\n",
      "Notes:\n",
      "[1] Standard Errors assume that the covariance matrix of the errors is correctly specified.\n"
     ]
    },
    {
     "name": "stderr",
     "output_type": "stream",
     "text": [
      "C:\\Users\\DELL\\anaconda3\\lib\\site-packages\\statsmodels\\tsa\\tsatools.py:142: FutureWarning: In a future version of pandas all arguments of concat except for the argument 'objs' will be keyword-only\n",
      "  x = pd.concat(x[::order], 1)\n"
     ]
    }
   ],
   "source": [
    "X = df_1[['Premium','HML','SMB','UMD']]\n",
    "y = df_1['Dependent']\n",
    "X = sm.add_constant(X)\n",
    "est = sm.OLS(y.astype(float), X.astype(float)).fit()\n",
    "print(est.summary())"
   ]
  },
  {
   "cell_type": "markdown",
   "id": "9e4fb1a9",
   "metadata": {},
   "source": [
    "### Q3. Compare the UMD factor to other specifications for momentum. Specifically, use the Spreadsheet Supplement for the case (which contains the momentum decile returns from Exhibit 4 along with the time series of the UMD return) to create the following four momentum portfolios and generate the average returns for each of them for every decade (the 1920s, 1930s, etc.):"
   ]
  },
  {
   "cell_type": "markdown",
   "id": "ddf8c108",
   "metadata": {},
   "source": [
    "### The results are present below. I think the results below further support my answer in Question 2. As you may see in in the last column, UMD, which generates positive returns in each decede and in particular, on average generate .94% return across all the years (see the second table below)."
   ]
  },
  {
   "cell_type": "code",
   "execution_count": 135,
   "id": "8c0d8a6e",
   "metadata": {},
   "outputs": [
    {
     "data": {
      "text/plain": [
       "(         Decile  Quintile     Median       UMD\n",
       " Years                                         \n",
       " 1920s  0.504267   0.850767  1.215167  0.238833\n",
       " 1930s  1.018000   1.260500  2.793200  0.950750\n",
       " 1940s  1.214000   1.901000  2.628500  0.702200\n",
       " 1950s  1.622400   2.645400  4.083100  1.152900\n",
       " 1960s  1.935600   2.944700  3.731100  1.219600\n",
       " 1970s  2.275500   3.393900  4.005800  0.984050\n",
       " 1980s  1.656000   2.329400  2.696400  1.042750\n",
       " 1990s  2.704500   3.291100  4.629200  1.561850\n",
       " 2000s  0.814000   1.061300  1.506200  0.627050,\n",
       "          Decile  Quintile     Median       UMD\n",
       " count  9.000000   9.000000  9.000000  9.000000\n",
       " mean   1.527141   2.186452  3.032074  0.942220\n",
       " std    0.711588   0.966506  1.175495  0.382245\n",
       " min    0.504267   0.850767  1.215167  0.238833\n",
       " 25%    1.018000   1.260500  2.628500  0.702200\n",
       " 50%    1.622400   2.329400  2.793200  0.984050\n",
       " 75%    1.935600   2.944700  4.005800  1.152900\n",
       " max    2.704500   3.393900  4.629200  1.561850)"
      ]
     },
     "execution_count": 135,
     "metadata": {},
     "output_type": "execute_result"
    }
   ],
   "source": [
    "df_2= pd.read_csv(\"Averages.csv\", parse_dates=True, index_col=\"Years\")\n",
    "df_2,df_2.describe() \n",
    " "
   ]
  },
  {
   "cell_type": "markdown",
   "id": "79e8e21f",
   "metadata": {},
   "source": [
    "### Q4. What are the appropriate benchmarks for AQR’s Momentum Funds? Will the net performance of the funds exceed those benchmarks? Why or why not?"
   ]
  },
  {
   "cell_type": "markdown",
   "id": "1b9a4ccb",
   "metadata": {},
   "source": [
    "### In the case, we know that AQR developed primarily three  Momentum indexes: \n",
    "### 1. a large-cap US momentum index's corresponding benchmark is the largest 1000 US stocks  \n",
    "### 2. a small-cap US momentum index's corresponding benchmark is the next 2000 US stocks (after the first 1000 US stocks) \n",
    "### 3. a large-cap international momentum index's corresponding benchmark is 1000 large international stocks"
   ]
  },
  {
   "cell_type": "markdown",
   "id": "901712ee",
   "metadata": {},
   "source": [
    "### From questions 2 and 3, we learned that Momentum strategy is a very sensible strategy. Therefore, I think these funds will outperform their corresponding benchmarks, becuase methedological wise, they are quarterly rebalancing their portfolio incorporating the newly ranked stocks (e.g., using their t-2 to t-12 months' returns), which means as long as there is an positive momentum carry through period by period, this portfolio should've made some gain that is beyond the benchmark, by definition.\n",
    "### It turns out that they did outperform the benchmark according to the case. For example, the AQR large-cap momentum index had beated the Russel 1000 benchmark/grow by 210/320 basis points annually since 1980. The same holds true for their small-cap and international indexes.\n",
    "\n",
    "### The onoy caveat would be the tracking errors mentioning in the case, the portfolio manager therefore need to be very careful to define rules on tracking their momentum indexes as I mentioned in question 2. Overall, I think this is a value-generated strategy."
   ]
  },
  {
   "cell_type": "markdown",
   "id": "38636537",
   "metadata": {},
   "source": [
    "### Q5. The advantageous correlation structure in Exhibit 5 was seen as a key selling point of momentum:\n",
    "### 1. Is this the right way to think about AQR’s Momentum mutual funds?\n",
    "### 2. If not, use the data in the Spreadsheet Supplement to construct a more informative set of correlations. Does anything in AQR’s story change?\n"
   ]
  },
  {
   "cell_type": "code",
   "execution_count": null,
   "id": "254b9cc3",
   "metadata": {},
   "outputs": [],
   "source": []
  },
  {
   "cell_type": "markdown",
   "id": "ccb16394",
   "metadata": {},
   "source": [
    "### In the case, we learned that mutual funds prohibit short selling, therefore UMD is not a reasonable comparision for the correlation matrix. On the ther hand, series \"up\" did not fully represent the momentum strategy AQR but can be viewed as a proxy for their main sell point.\n",
    "### If you focus on the last row regarding \"Up\", we learned that it will diversify some of its risk (e.g., all corrs <1) for all four factors we consider here, including \"High-Low\" which is  the dependent variable we used for Q2.  In particular, \"Up\" is only modestly correlated with  \"High-Low\"(.053) and \"HML\" (.097) providing evidence of selling point of momentum for AQR's funds."
   ]
  },
  {
   "cell_type": "code",
   "execution_count": 248,
   "id": "f0ecf728",
   "metadata": {},
   "outputs": [
    {
     "data": {
      "text/html": [
       "<div>\n",
       "<style scoped>\n",
       "    .dataframe tbody tr th:only-of-type {\n",
       "        vertical-align: middle;\n",
       "    }\n",
       "\n",
       "    .dataframe tbody tr th {\n",
       "        vertical-align: top;\n",
       "    }\n",
       "\n",
       "    .dataframe thead th {\n",
       "        text-align: right;\n",
       "    }\n",
       "</style>\n",
       "<table border=\"1\" class=\"dataframe\">\n",
       "  <thead>\n",
       "    <tr style=\"text-align: right;\">\n",
       "      <th></th>\n",
       "      <th>High-Low</th>\n",
       "      <th>Premium</th>\n",
       "      <th>HML</th>\n",
       "      <th>SMB</th>\n",
       "      <th>U</th>\n",
       "    </tr>\n",
       "  </thead>\n",
       "  <tbody>\n",
       "    <tr>\n",
       "      <th>High-Low</th>\n",
       "      <td>1.000000</td>\n",
       "      <td>-0.074552</td>\n",
       "      <td>-0.284372</td>\n",
       "      <td>-0.235130</td>\n",
       "      <td>0.052791</td>\n",
       "    </tr>\n",
       "    <tr>\n",
       "      <th>Premium</th>\n",
       "      <td>-0.074552</td>\n",
       "      <td>1.000000</td>\n",
       "      <td>0.113963</td>\n",
       "      <td>0.412689</td>\n",
       "      <td>0.934324</td>\n",
       "    </tr>\n",
       "    <tr>\n",
       "      <th>HML</th>\n",
       "      <td>-0.284372</td>\n",
       "      <td>0.113963</td>\n",
       "      <td>1.000000</td>\n",
       "      <td>0.075273</td>\n",
       "      <td>0.097950</td>\n",
       "    </tr>\n",
       "    <tr>\n",
       "      <th>SMB</th>\n",
       "      <td>-0.235130</td>\n",
       "      <td>0.412689</td>\n",
       "      <td>0.075273</td>\n",
       "      <td>1.000000</td>\n",
       "      <td>0.607221</td>\n",
       "    </tr>\n",
       "    <tr>\n",
       "      <th>U</th>\n",
       "      <td>0.052791</td>\n",
       "      <td>0.934324</td>\n",
       "      <td>0.097950</td>\n",
       "      <td>0.607221</td>\n",
       "      <td>1.000000</td>\n",
       "    </tr>\n",
       "  </tbody>\n",
       "</table>\n",
       "</div>"
      ],
      "text/plain": [
       "          High-Low   Premium       HML       SMB         U\n",
       "High-Low  1.000000 -0.074552 -0.284372 -0.235130  0.052791\n",
       "Premium  -0.074552  1.000000  0.113963  0.412689  0.934324\n",
       "HML      -0.284372  0.113963  1.000000  0.075273  0.097950\n",
       "SMB      -0.235130  0.412689  0.075273  1.000000  0.607221\n",
       "U         0.052791  0.934324  0.097950  0.607221  1.000000"
      ]
     },
     "execution_count": 248,
     "metadata": {},
     "output_type": "execute_result"
    }
   ],
   "source": [
    "df_3= pd.read_csv(\"UMDtest_.csv\", parse_dates=True, index_col=\"Year\")\n",
    "df_3 = df_3.dropna()\n",
    "df_3 = df_3.drop(columns='UMD')\n",
    "df_3.rename(columns={\"Mkt-RF\":\"Premium\"}, inplace=True)\n",
    "df_3 = df_3.astype(np.float16)\n",
    "corr = df_3.corr()\n",
    "corr"
   ]
  },
  {
   "cell_type": "markdown",
   "id": "688ccec7",
   "metadata": {},
   "source": [
    "### Q6.Does momentum make an attractive product for retail mutual fund investors?"
   ]
  },
  {
   "cell_type": "markdown",
   "id": "44a7cf4b",
   "metadata": {},
   "source": [
    "### The answer is certainly yes. Retail mutual fund investors want to minimize their risks while retaining a modest portfolio returns. According to the case, momentum strategies only implemented in hedge funds and thus, the benefits are enjoyed primarily by institutional investors. AQR's Momentum funds now provide retail investors with this type of opportunities to beat the benchmark and generate better returns. I think as long as the expense ratios is not too high, considering the risk-reward of adding momentum mutual fund to part of their portolio would be benefical.\n"
   ]
  },
  {
   "cell_type": "markdown",
   "id": "5d0ef1a0",
   "metadata": {},
   "source": [
    "### Q7. If AQR launches its momentum funds, how should the firm weigh maximizing returns vs. minimizing tracking error? How should it manage the portfolio?"
   ]
  },
  {
   "cell_type": "markdown",
   "id": "0a03fc50",
   "metadata": {},
   "source": [
    "### Related to my answer in Q2. AQR needs to develop concrete plan to handle trade off between maximizing returns (e.g., allowing some tracking errors via portfolio diversification/tax-efficiency) and minimizing tracking errors. In my view, the main goal of portfolio manager is to deliver better returns, thus,  I think it is almost unavoidable to permit some tracking errors.\n",
    "### Specifically, if the ranking of certain stocks at the end is between (325 - 350 +- 50) of period 2  and if the tax and return benefits outweight swap stocks (e.g., between XYZ and ABC in the case), then they should not do so. Similar procedure can be made via tax simulation."
   ]
  },
  {
   "cell_type": "markdown",
   "id": "600bf198",
   "metadata": {},
   "source": [
    "### 8. Build a multifactor model using the period 1927-1999 to forecast the annual return of your preferred stock for the period 2000-2008 based on the four specifications of the UMD factor from question 3, and the three original Fama French factors: Mkt – RF, HML, and SMB with the following methodologies and calculate the mean squared error (MSE):\n",
    "\n",
    "##### 1.\tLinear regression\n",
    "##### 2.\tRidge regression\n",
    "##### 3.\tLasso regression\n",
    "##### 4.\tRandom Forest for regression\n",
    "##### 5.\tDecision tree for regression\n",
    "##### 6.\tSupport vector regression\n",
    "#####  7.\tBuild a table with the MSE of the above algorithms and discuss your results.\n"
   ]
  },
  {
   "cell_type": "code",
   "execution_count": 348,
   "id": "b00e0410",
   "metadata": {},
   "outputs": [],
   "source": [
    "import yfinance as yf\n",
    "import matplotlib.pyplot as plt\n",
    "from sklearn.linear_model import LinearRegression\n",
    "from sklearn.linear_model import LogisticRegression\n",
    "from sklearn.linear_model import Ridge, RidgeCV, Lasso, LassoCV\n",
    "from sklearn.metrics import mean_squared_error\n",
    "from sklearn.svm import SVR\n",
    "from sklearn.ensemble import RandomForestRegressor\n",
    "from sklearn.tree import DecisionTreeRegressor"
   ]
  },
  {
   "cell_type": "markdown",
   "id": "5afea4a4",
   "metadata": {},
   "source": [
    "####  The stock I chosen is Coca-cola (NYSE: KO). \n",
    "#### To construct the annual return series for KO, I first extracted daily data from Yahoo Finance between 1962 and 2009 and converted it from daily to annually using the year-end stock price (12/31). I then calculated the annual return using this formula where t denotes year (P_t/P_t-1 -1).\n",
    "####  Once the data is ready for regression, I merged it with the data I constrcuted for the previous questions which contains the four required factors.\n",
    "#### I then split the data into train (1962-1999) and test (2000-2008), ran through all the algorithms above for the four-factor model  and finally created a table for all the MSEs.\n",
    "\n"
   ]
  },
  {
   "cell_type": "markdown",
   "id": "26549b9d",
   "metadata": {},
   "source": [
    "### It turns out that using the default setting for these algorithms, I found that Support Vector Regression (0.042337) produced the smallest MSE in the prediction phase,  Ridge (0.043064) and Linear regression (0.044549) second. \n",
    "### The main takeaway for me is that SVR is an under-appreciated algorithm for factor-model analysis,  and linear regression have fairly good out-of-sample MSE as compared to many other ML algorithms, meaning linear regression would be less likely to overfit the data and should still be a very robust method to evaluate stock returns and etc. Please see the last table below for the details."
   ]
  },
  {
   "cell_type": "code",
   "execution_count": 349,
   "id": "e09ce3fc",
   "metadata": {},
   "outputs": [
    {
     "name": "stdout",
     "output_type": "stream",
     "text": [
      "[*********************100%***********************]  1 of 1 completed\n"
     ]
    }
   ],
   "source": [
    "ticker = 'KO'\n",
    "data = yf.download(ticker, end=\"2009-01-02\",interval=\"1d\")\n",
    "data = data[\"Adj Close\"]\n",
    "\n",
    "agg_dict = {'Open': 'first',\n",
    "          'High': 'max',\n",
    "          'Low': 'min',\n",
    "          'Close': 'last',\n",
    "          'Adj Close': 'last',\n",
    "          'Volume': 'mean'}\n",
    "\n",
    "df_4 = data.resample('A').agg(agg_dict)\n",
    "df_4['index']=df_4.index\n",
    "df_4['index'] = pd.to_datetime(df_4['index'])\n",
    "df_4['Year'] = df_4['index'].dt.year\n",
    "df_4= df_4.set_index('Year').drop(columns=['index','Open','High','Low','Close','Volume'])\n",
    "df_4['KO']=df_4['Adj Close'].pct_change()\n",
    "df_4 = df_4.dropna()\n",
    "df_1= pd.read_csv(\"UMDtest_.csv\", parse_dates=True, index_col=\"Year\")\n",
    "df_1 = df_1.dropna()\n",
    "df_1['index']=df_1.index\n",
    "df_1['index'] = pd.to_datetime(df_1['index'])\n",
    "df_1['Year'] = df_1['index'].dt.year\n",
    "df_1= df_1.set_index('Year').drop(columns=['index','U','High-Low'])\n",
    "\n",
    "\n"
   ]
  },
  {
   "cell_type": "code",
   "execution_count": 350,
   "id": "36691646",
   "metadata": {
    "scrolled": true
   },
   "outputs": [
    {
     "data": {
      "image/png": "[encoded data removed]",
      "text/plain": [
       "<Figure size 432x288 with 1 Axes>"
      ]
     },
     "metadata": {
      "needs_background": "light"
     },
     "output_type": "display_data"
    }
   ],
   "source": [
    "fig = plt.figure()\n",
    "df_4['KO'].plot()\n",
    "plt.show()\n",
    "\n",
    "new = df_1.join(df_4)\n",
    "new =new.dropna().drop(columns='Adj Close')\n"
   ]
  },
  {
   "cell_type": "code",
   "execution_count": 351,
   "id": "a0f11944",
   "metadata": {},
   "outputs": [
    {
     "data": {
      "text/plain": [
       "(      Mkt-RF      HML       SMB      UMD        KO\n",
       " Year                                              \n",
       " 1963  0.1777  0.16385 -0.060167  0.11625  0.394325\n",
       " 1964  0.1278    0.104 -0.014000  0.04720  0.245610\n",
       " 1965  0.1047  0.07655  0.216167  0.20440  0.248991\n",
       " 1966 -0.1344  -0.0084  0.028500  0.10325  0.067820\n",
       " 1967  0.2436  -0.0848  0.504833  0.22485  0.505495,\n",
       "       Mkt-RF       HML       SMB      UMD        KO\n",
       " Year                                               \n",
       " 2004  0.1181   0.09735  0.049033 -0.00500 -0.161252\n",
       " 2005  0.0434    0.0895 -0.022400  0.15465 -0.006612\n",
       " 2006  0.1139    0.1434  0.004967 -0.07835  0.231046\n",
       " 2007  0.0265  -0.12485 -0.082167  0.21380  0.304542\n",
       " 2008 -0.3994   0.01005  0.041833  0.13390 -0.240990)"
      ]
     },
     "execution_count": 351,
     "metadata": {},
     "output_type": "execute_result"
    }
   ],
   "source": [
    "new.head(5),new.tail(5)"
   ]
  },
  {
   "cell_type": "code",
   "execution_count": 354,
   "id": "5eaa1caa",
   "metadata": {},
   "outputs": [
    {
     "name": "stderr",
     "output_type": "stream",
     "text": [
      "C:\\Users\\DELL\\AppData\\Local\\Temp/ipykernel_13484/2060190355.py:9: DataConversionWarning: A column-vector y was passed when a 1d array was expected. Please change the shape of y to (n_samples,), for example using ravel().\n",
      "  model.fit(X_train,Y_train)\n",
      "C:\\Users\\DELL\\anaconda3\\lib\\site-packages\\sklearn\\utils\\validation.py:63: DataConversionWarning: A column-vector y was passed when a 1d array was expected. Please change the shape of y to (n_samples, ), for example using ravel().\n",
      "  return f(*args, **kwargs)\n"
     ]
    }
   ],
   "source": [
    "X_train = new[['Mkt-RF','HML','SMB','UMD']].iloc[:-9,:]\n",
    "Y_train = new[['KO']].iloc[:-9,:]\n",
    "X_test = new[['Mkt-RF','HML','SMB','UMD']].iloc[-9:,:]\n",
    "Y_test = new[['KO']].iloc[-9:,:]\n",
    "\n",
    "models = [LinearRegression(), Ridge(normalize=True),Lasso(max_iter=10000, normalize=True),RandomForestRegressor(),DecisionTreeRegressor(),SVR(kernel = 'rbf')]\n",
    "list1 = []\n",
    "for model in models:\n",
    "    model.fit(X_train,Y_train)\n",
    "    frame=pd.Series({'Model':type(model).__name__, 'MSE': mean_squared_error(model.predict(X_test), Y_test)})\n",
    "    list1.append(frame)\n",
    "    Table=pd.concat(list1, axis=1).T"
   ]
  },
  {
   "cell_type": "code",
   "execution_count": 358,
   "id": "6a8d6791",
   "metadata": {},
   "outputs": [
    {
     "data": {
      "text/html": [
       "<div>\n",
       "<style scoped>\n",
       "    .dataframe tbody tr th:only-of-type {\n",
       "        vertical-align: middle;\n",
       "    }\n",
       "\n",
       "    .dataframe tbody tr th {\n",
       "        vertical-align: top;\n",
       "    }\n",
       "\n",
       "    .dataframe thead th {\n",
       "        text-align: right;\n",
       "    }\n",
       "</style>\n",
       "<table border=\"1\" class=\"dataframe\">\n",
       "  <thead>\n",
       "    <tr style=\"text-align: right;\">\n",
       "      <th></th>\n",
       "      <th>Model</th>\n",
       "      <th>MSE</th>\n",
       "    </tr>\n",
       "  </thead>\n",
       "  <tbody>\n",
       "    <tr>\n",
       "      <th>5</th>\n",
       "      <td>SVR</td>\n",
       "      <td>0.042337</td>\n",
       "    </tr>\n",
       "    <tr>\n",
       "      <th>1</th>\n",
       "      <td>Ridge</td>\n",
       "      <td>0.043064</td>\n",
       "    </tr>\n",
       "    <tr>\n",
       "      <th>0</th>\n",
       "      <td>LinearRegression</td>\n",
       "      <td>0.044549</td>\n",
       "    </tr>\n",
       "    <tr>\n",
       "      <th>3</th>\n",
       "      <td>RandomForestRegressor</td>\n",
       "      <td>0.052378</td>\n",
       "    </tr>\n",
       "    <tr>\n",
       "      <th>4</th>\n",
       "      <td>DecisionTreeRegressor</td>\n",
       "      <td>0.070971</td>\n",
       "    </tr>\n",
       "    <tr>\n",
       "      <th>2</th>\n",
       "      <td>Lasso</td>\n",
       "      <td>0.072889</td>\n",
       "    </tr>\n",
       "  </tbody>\n",
       "</table>\n",
       "</div>"
      ],
      "text/plain": [
       "                   Model       MSE\n",
       "5                    SVR  0.042337\n",
       "1                  Ridge  0.043064\n",
       "0       LinearRegression  0.044549\n",
       "3  RandomForestRegressor  0.052378\n",
       "4  DecisionTreeRegressor  0.070971\n",
       "2                  Lasso  0.072889"
      ]
     },
     "execution_count": 358,
     "metadata": {},
     "output_type": "execute_result"
    }
   ],
   "source": [
    "Table.sort_values(by=['MSE'])"
   ]
  }
 ],
 "metadata": {
  "kernelspec": {
   "display_name": "Python 3 (ipykernel)",
   "language": "python",
   "name": "python3"
  },
  "language_info": {
   "codemirror_mode": {
    "name": "ipython",
    "version": 3
   },
   "file_extension": ".py",
   "mimetype": "text/x-python",
   "name": "python",
   "nbconvert_exporter": "python",
   "pygments_lexer": "ipython3",
   "version": "3.9.7"
  }
 },
 "nbformat": 4,
 "nbformat_minor": 5
}
